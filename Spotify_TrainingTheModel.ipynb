{
 "cells": [
  {
   "cell_type": "code",
   "execution_count": 4,
   "outputs": [],
   "source": [
    "import config\n",
    "import spotipy\n",
    "import json\n",
    "import requests\n",
    "from spotipy.oauth2 import SpotifyClientCredentials\n",
    "import pprint\n",
    "import pandas as pd\n",
    "import numpy as np\n",
    "import base64\n",
    "import csv\n",
    "import pickle\n",
    "from sklearn import datasets # sklearn comes with some toy datasets to practise\n",
    "from sklearn.preprocessing import StandardScaler\n",
    "from sklearn.cluster import KMeans\n",
    "import matplotlib.pyplot as plt\n",
    "%matplotlib inline\n",
    "from sklearn.metrics import silhouette_score\n",
    "import random\n",
    "import difflib"
   ],
   "metadata": {
    "collapsed": false
   }
  },
  {
   "cell_type": "code",
   "execution_count": 3,
   "outputs": [],
   "source": [
    "# Authenticate with Spotify API\n",
    "client_credentials_manager = SpotifyClientCredentials(\n",
    "    client_id=config.client_id,\n",
    "    client_secret=config.client_secret\n",
    ")\n",
    "sp = spotipy.Spotify(client_credentials_manager=client_credentials_manager)"
   ],
   "metadata": {
    "collapsed": false
   }
  },
  {
   "cell_type": "markdown",
   "source": [
    "## 1. create list of playlists"
   ],
   "metadata": {
    "collapsed": false
   }
  },
  {
   "cell_type": "code",
   "execution_count": 37,
   "outputs": [
    {
     "data": {
      "text/plain": "[{'collaborative': False,\n  'description': 'Rema & Selena Gomez are on top of the Hottest 50!',\n  'external_urls': {'spotify': 'https://open.spotify.com/playlist/37i9dQZF1DXcBWIGoYBM5M'},\n  'href': 'https://api.spotify.com/v1/playlists/37i9dQZF1DXcBWIGoYBM5M',\n  'id': '37i9dQZF1DXcBWIGoYBM5M',\n  'images': [{'height': None,\n    'url': 'https://i.scdn.co/image/ab67706f000000031d051b0d3dcb712c312eb94b',\n    'width': None}],\n  'name': \"Today's Top Hits\",\n  'owner': {'display_name': 'Spotify',\n   'external_urls': {'spotify': 'https://open.spotify.com/user/spotify'},\n   'href': 'https://api.spotify.com/v1/users/spotify',\n   'id': 'spotify',\n   'type': 'user',\n   'uri': 'spotify:user:spotify'},\n  'primary_color': None,\n  'public': True,\n  'snapshot_id': 'MTY4MjY5MDMzOCwwMDAwMDAwMGY0MTVhOTRmYjk3ZjgzY2I3M2YwODAxNmZmY2NhYjFk',\n  'tracks': {'href': 'https://api.spotify.com/v1/playlists/37i9dQZF1DXcBWIGoYBM5M/tracks',\n   'total': 50},\n  'type': 'playlist',\n  'uri': 'spotify:playlist:37i9dQZF1DXcBWIGoYBM5M'},\n {'collaborative': False,\n  'description': 'New music from Ice Spice, Jack Harlow and Coi Leray. ',\n  'external_urls': {'spotify': 'https://open.spotify.com/playlist/37i9dQZF1DX0XUsuxWHRQd'},\n  'href': 'https://api.spotify.com/v1/playlists/37i9dQZF1DX0XUsuxWHRQd',\n  'id': '37i9dQZF1DX0XUsuxWHRQd',\n  'images': [{'height': None,\n    'url': 'https://i.scdn.co/image/ab67706f00000003ff53eb23edd09b8920761042',\n    'width': None}],\n  'name': 'RapCaviar',\n  'owner': {'display_name': 'Spotify',\n   'external_urls': {'spotify': 'https://open.spotify.com/user/spotify'},\n   'href': 'https://api.spotify.com/v1/users/spotify',\n   'id': 'spotify',\n   'type': 'user',\n   'uri': 'spotify:user:spotify'},\n  'primary_color': None,\n  'public': True,\n  'snapshot_id': 'MTY4MjY1NDQwMCwwMDAwMDAwMGFjYzg2NWNlZGE5Njc0OTkyMDUzNDUwNmIyOTIzYjFj',\n  'tracks': {'href': 'https://api.spotify.com/v1/playlists/37i9dQZF1DX0XUsuxWHRQd/tracks',\n   'total': 50},\n  'type': 'playlist',\n  'uri': 'spotify:playlist:37i9dQZF1DX0XUsuxWHRQd'},\n {'collaborative': False,\n  'description': \"Today's top country hits of the week, worldwide! Cover: Nate Smith\",\n  'external_urls': {'spotify': 'https://open.spotify.com/playlist/37i9dQZF1DX1lVhptIYRda'},\n  'href': 'https://api.spotify.com/v1/playlists/37i9dQZF1DX1lVhptIYRda',\n  'id': '37i9dQZF1DX1lVhptIYRda',\n  'images': [{'height': None,\n    'url': 'https://i.scdn.co/image/ab67706f00000003c0a235b2797b60cdaa438217',\n    'width': None}],\n  'name': 'Hot Country',\n  'owner': {'display_name': 'Spotify',\n   'external_urls': {'spotify': 'https://open.spotify.com/user/spotify'},\n   'href': 'https://api.spotify.com/v1/users/spotify',\n   'id': 'spotify',\n   'type': 'user',\n   'uri': 'spotify:user:spotify'},\n  'primary_color': None,\n  'public': True,\n  'snapshot_id': 'MTY4MjY1NDQwMCwwMDAwMDAwMDRkNGM0OTk1NjgwMWZmYzU0MTk3M2JiNWIxYjUzZDIy',\n  'tracks': {'href': 'https://api.spotify.com/v1/playlists/37i9dQZF1DX1lVhptIYRda/tracks',\n   'total': 50},\n  'type': 'playlist',\n  'uri': 'spotify:playlist:37i9dQZF1DX1lVhptIYRda'},\n {'collaborative': False,\n  'description': \"Today's top Latin hits, elevando nuestra música. Cover: Eslabon Armado\",\n  'external_urls': {'spotify': 'https://open.spotify.com/playlist/37i9dQZF1DX10zKzsJ2jva'},\n  'href': 'https://api.spotify.com/v1/playlists/37i9dQZF1DX10zKzsJ2jva',\n  'id': '37i9dQZF1DX10zKzsJ2jva',\n  'images': [{'height': None,\n    'url': 'https://i.scdn.co/image/ab67706f0000000309b8f023642f0ec4ec16d991',\n    'width': None}],\n  'name': 'Viva Latino',\n  'owner': {'display_name': 'Spotify',\n   'external_urls': {'spotify': 'https://open.spotify.com/user/spotify'},\n   'href': 'https://api.spotify.com/v1/users/spotify',\n   'id': 'spotify',\n   'type': 'user',\n   'uri': 'spotify:user:spotify'},\n  'primary_color': None,\n  'public': True,\n  'snapshot_id': 'MTY4MjY1NDQwMCwwMDAwMDAwMGQyNGQ1MzJlNjExYTJkMjMwMzYzNTI5ZGZmMTFlNjVh',\n  'tracks': {'href': 'https://api.spotify.com/v1/playlists/37i9dQZF1DX10zKzsJ2jva/tracks',\n   'total': 50},\n  'type': 'playlist',\n  'uri': 'spotify:playlist:37i9dQZF1DX10zKzsJ2jva'},\n {'collaborative': False,\n  'description': 'New music from Labrinth, Kesha, Jack Harlow, Coi Leray, Niall Horan, Bebe Rexha and more!',\n  'external_urls': {'spotify': 'https://open.spotify.com/playlist/37i9dQZF1DX4JAvHpjipBk'},\n  'href': 'https://api.spotify.com/v1/playlists/37i9dQZF1DX4JAvHpjipBk',\n  'id': '37i9dQZF1DX4JAvHpjipBk',\n  'images': [{'height': None,\n    'url': 'https://i.scdn.co/image/ab67706f0000000301747bca3e7bc871217ae61f',\n    'width': None}],\n  'name': 'New Music Friday',\n  'owner': {'display_name': 'Spotify',\n   'external_urls': {'spotify': 'https://open.spotify.com/user/spotify'},\n   'href': 'https://api.spotify.com/v1/users/spotify',\n   'id': 'spotify',\n   'type': 'user',\n   'uri': 'spotify:user:spotify'},\n  'primary_color': None,\n  'public': True,\n  'snapshot_id': 'MTY4MjY1NDQwMCwwMDAwMDAwMGYyZmQ3YjUwNjUwNDY4NDNlMDdhYWE4Nzc2ZmEzYmY3',\n  'tracks': {'href': 'https://api.spotify.com/v1/playlists/37i9dQZF1DX4JAvHpjipBk/tracks',\n   'total': 100},\n  'type': 'playlist',\n  'uri': 'spotify:playlist:37i9dQZF1DX4JAvHpjipBk'},\n {'collaborative': False,\n  'description': 'Relax and indulge with beautiful piano pieces',\n  'external_urls': {'spotify': 'https://open.spotify.com/playlist/37i9dQZF1DX4sWSpwq3LiO'},\n  'href': 'https://api.spotify.com/v1/playlists/37i9dQZF1DX4sWSpwq3LiO',\n  'id': '37i9dQZF1DX4sWSpwq3LiO',\n  'images': [{'height': None,\n    'url': 'https://i.scdn.co/image/ab67706f00000003ca5a7517156021292e5663a6',\n    'width': None}],\n  'name': 'Peaceful Piano',\n  'owner': {'display_name': 'Spotify',\n   'external_urls': {'spotify': 'https://open.spotify.com/user/spotify'},\n   'href': 'https://api.spotify.com/v1/users/spotify',\n   'id': 'spotify',\n   'type': 'user',\n   'uri': 'spotify:user:spotify'},\n  'primary_color': None,\n  'public': True,\n  'snapshot_id': 'MTY4MjM0MjA4NiwwMDAwMDAwMGExZWY3ZmJhNzliMzE5MjFkNWU4OGU4ZDU5ZDZkNDA5',\n  'tracks': {'href': 'https://api.spotify.com/v1/playlists/37i9dQZF1DX4sWSpwq3LiO/tracks',\n   'total': 300},\n  'type': 'playlist',\n  'uri': 'spotify:playlist:37i9dQZF1DX4sWSpwq3LiO'},\n {'collaborative': False,\n  'description': 'The pulse of R&B music today. Cover: Miguel',\n  'external_urls': {'spotify': 'https://open.spotify.com/playlist/37i9dQZF1DX4SBhb3fqCJd'},\n  'href': 'https://api.spotify.com/v1/playlists/37i9dQZF1DX4SBhb3fqCJd',\n  'id': '37i9dQZF1DX4SBhb3fqCJd',\n  'images': [{'height': None,\n    'url': 'https://i.scdn.co/image/ab67706f000000034722bf2b1a6c5c50588d8d11',\n    'width': None}],\n  'name': 'Are & Be',\n  'owner': {'display_name': 'Spotify',\n   'external_urls': {'spotify': 'https://open.spotify.com/user/spotify'},\n   'href': 'https://api.spotify.com/v1/users/spotify',\n   'id': 'spotify',\n   'type': 'user',\n   'uri': 'spotify:user:spotify'},\n  'primary_color': None,\n  'public': True,\n  'snapshot_id': 'MTY4MjY1NDQwMCwwMDAwMDAwMGVlNzJhMTA5MTJhNGI4NjY0ZjM3NjdlMTdlNDFhYjEy',\n  'tracks': {'href': 'https://api.spotify.com/v1/playlists/37i9dQZF1DX4SBhb3fqCJd/tracks',\n   'total': 51},\n  'type': 'playlist',\n  'uri': 'spotify:playlist:37i9dQZF1DX4SBhb3fqCJd'},\n {'collaborative': False,\n  'description': 'Rock legends & epic songs that continue to inspire generations. Cover: Queen',\n  'external_urls': {'spotify': 'https://open.spotify.com/playlist/37i9dQZF1DWXRqgorJj26U'},\n  'href': 'https://api.spotify.com/v1/playlists/37i9dQZF1DWXRqgorJj26U',\n  'id': '37i9dQZF1DWXRqgorJj26U',\n  'images': [{'height': None,\n    'url': 'https://i.scdn.co/image/ab67706f000000035e81461d7898c4309ef0e02d',\n    'width': None}],\n  'name': 'Rock Classics',\n  'owner': {'display_name': 'Spotify',\n   'external_urls': {'spotify': 'https://open.spotify.com/user/spotify'},\n   'href': 'https://api.spotify.com/v1/users/spotify',\n   'id': 'spotify',\n   'type': 'user',\n   'uri': 'spotify:user:spotify'},\n  'primary_color': None,\n  'public': True,\n  'snapshot_id': 'MTY4MDIzNTI2MCwwMDAwMDAwMGFkYWI1ZGNjMDFiYWE3OTEzMGY5ZmNmNjliZDBlNzJm',\n  'tracks': {'href': 'https://api.spotify.com/v1/playlists/37i9dQZF1DWXRqgorJj26U/tracks',\n   'total': 200},\n  'type': 'playlist',\n  'uri': 'spotify:playlist:37i9dQZF1DWXRqgorJj26U'},\n {'collaborative': False,\n  'description': \"The world's biggest dance hits. Cover: Shouse & David Guetta\",\n  'external_urls': {'spotify': 'https://open.spotify.com/playlist/37i9dQZF1DX4dyzvuaRJ0n'},\n  'href': 'https://api.spotify.com/v1/playlists/37i9dQZF1DX4dyzvuaRJ0n',\n  'id': '37i9dQZF1DX4dyzvuaRJ0n',\n  'images': [{'height': None,\n    'url': 'https://i.scdn.co/image/ab67706f00000003185d82e4ba2ce69f05111995',\n    'width': None}],\n  'name': 'mint',\n  'owner': {'display_name': 'Spotify',\n   'external_urls': {'spotify': 'https://open.spotify.com/user/spotify'},\n   'href': 'https://api.spotify.com/v1/users/spotify',\n   'id': 'spotify',\n   'type': 'user',\n   'uri': 'spotify:user:spotify'},\n  'primary_color': None,\n  'public': True,\n  'snapshot_id': 'MTY4MjY1NDQ2MCwwMDAwMDAwMGM0MGE1YTgwMTZiYmFmYzU3NTZkYjA0OThkZjM1YTA0',\n  'tracks': {'href': 'https://api.spotify.com/v1/playlists/37i9dQZF1DX4dyzvuaRJ0n/tracks',\n   'total': 75},\n  'type': 'playlist',\n  'uri': 'spotify:playlist:37i9dQZF1DX4dyzvuaRJ0n'},\n {'collaborative': False,\n  'description': \"Pierce The Veil along with today's Rock songs you need to hear.\",\n  'external_urls': {'spotify': 'https://open.spotify.com/playlist/37i9dQZF1DXcF6B6QPhFDv'},\n  'href': 'https://api.spotify.com/v1/playlists/37i9dQZF1DXcF6B6QPhFDv',\n  'id': '37i9dQZF1DXcF6B6QPhFDv',\n  'images': [{'height': None,\n    'url': 'https://i.scdn.co/image/ab67706f0000000300c507c4843fbe654dd3bfc2',\n    'width': None}],\n  'name': 'Rock This',\n  'owner': {'display_name': 'Spotify',\n   'external_urls': {'spotify': 'https://open.spotify.com/user/spotify'},\n   'href': 'https://api.spotify.com/v1/users/spotify',\n   'id': 'spotify',\n   'type': 'user',\n   'uri': 'spotify:user:spotify'},\n  'primary_color': None,\n  'public': True,\n  'snapshot_id': 'MTY4MjY1NDQwMCwwMDAwMDAwMDMwMDk2YzA2MTE1M2U0ZTE3NjJjNDAxMTAyMDFhMWMx',\n  'tracks': {'href': 'https://api.spotify.com/v1/playlists/37i9dQZF1DXcF6B6QPhFDv/tracks',\n   'total': 50},\n  'type': 'playlist',\n  'uri': 'spotify:playlist:37i9dQZF1DXcF6B6QPhFDv'},\n {'collaborative': False,\n  'description': 'The very best in new music from around the world. Cover: Labrinth',\n  'external_urls': {'spotify': 'https://open.spotify.com/playlist/37i9dQZF1DWXJfnUiYjUKT'},\n  'href': 'https://api.spotify.com/v1/playlists/37i9dQZF1DWXJfnUiYjUKT',\n  'id': '37i9dQZF1DWXJfnUiYjUKT',\n  'images': [{'height': None,\n    'url': 'https://i.scdn.co/image/ab67706f00000003d064081e65875e156b353f87',\n    'width': None}],\n  'name': 'New Music Friday',\n  'owner': {'display_name': 'Spotify',\n   'external_urls': {'spotify': 'https://open.spotify.com/user/spotify'},\n   'href': 'https://api.spotify.com/v1/users/spotify',\n   'id': 'spotify',\n   'type': 'user',\n   'uri': 'spotify:user:spotify'},\n  'primary_color': None,\n  'public': True,\n  'snapshot_id': 'MTY4MjY1NDQ2MCwwMDAwMDAwMDViYzc2ZjkxY2VlNDUzNWY0YjE4YTdjZjg1Y2YwZjA0',\n  'tracks': {'href': 'https://api.spotify.com/v1/playlists/37i9dQZF1DWXJfnUiYjUKT/tracks',\n   'total': 100},\n  'type': 'playlist',\n  'uri': 'spotify:playlist:37i9dQZF1DWXJfnUiYjUKT'},\n {'collaborative': False,\n  'description': 'Current favorites and exciting new music. Cover: Niall Horan',\n  'external_urls': {'spotify': 'https://open.spotify.com/playlist/37i9dQZF1DXcRXFNfZr7Tp'},\n  'href': 'https://api.spotify.com/v1/playlists/37i9dQZF1DXcRXFNfZr7Tp',\n  'id': '37i9dQZF1DXcRXFNfZr7Tp',\n  'images': [{'height': None,\n    'url': 'https://i.scdn.co/image/ab67706f000000035b3f397766d9f51cf1a8688d',\n    'width': None}],\n  'name': 'just hits',\n  'owner': {'display_name': 'Spotify',\n   'external_urls': {'spotify': 'https://open.spotify.com/user/spotify'},\n   'href': 'https://api.spotify.com/v1/users/spotify',\n   'id': 'spotify',\n   'type': 'user',\n   'uri': 'spotify:user:spotify'},\n  'primary_color': None,\n  'public': True,\n  'snapshot_id': 'MTY4MjY1NDQ2MCwwMDAwMDAwMDc3MThlOThiYzNkNzRiNmRmNDU2NmIxY2UyNjc5YjJl',\n  'tracks': {'href': 'https://api.spotify.com/v1/playlists/37i9dQZF1DXcRXFNfZr7Tp/tracks',\n   'total': 100},\n  'type': 'playlist',\n  'uri': 'spotify:playlist:37i9dQZF1DXcRXFNfZr7Tp'},\n {'collaborative': False,\n  'description': 'The biggest songs of the 2000s.',\n  'external_urls': {'spotify': 'https://open.spotify.com/playlist/37i9dQZF1DX4o1oenSJRJd'},\n  'href': 'https://api.spotify.com/v1/playlists/37i9dQZF1DX4o1oenSJRJd',\n  'id': '37i9dQZF1DX4o1oenSJRJd',\n  'images': [{'height': None,\n    'url': 'https://i.scdn.co/image/ab67706f00000003128217f6ecc1036a29759168',\n    'width': None}],\n  'name': 'All Out 2000s',\n  'owner': {'display_name': 'Spotify',\n   'external_urls': {'spotify': 'https://open.spotify.com/user/spotify'},\n   'href': 'https://api.spotify.com/v1/users/spotify',\n   'id': 'spotify',\n   'type': 'user',\n   'uri': 'spotify:user:spotify'},\n  'primary_color': None,\n  'public': True,\n  'snapshot_id': 'MTY3OTQ4MTY4OCwwMDAwMDAwMDcwNGFkMzUxNmFkOTlkMzBjOTNlODI3N2MxZmVlY2Yy',\n  'tracks': {'href': 'https://api.spotify.com/v1/playlists/37i9dQZF1DX4o1oenSJRJd/tracks',\n   'total': 150},\n  'type': 'playlist',\n  'uri': 'spotify:playlist:37i9dQZF1DX4o1oenSJRJd'},\n {'collaborative': False,\n  'description': 'The biggest songs of the 1990s. ',\n  'external_urls': {'spotify': 'https://open.spotify.com/playlist/37i9dQZF1DXbTxeAdrVG2l'},\n  'href': 'https://api.spotify.com/v1/playlists/37i9dQZF1DXbTxeAdrVG2l',\n  'id': '37i9dQZF1DXbTxeAdrVG2l',\n  'images': [{'height': None,\n    'url': 'https://i.scdn.co/image/ab67706f000000039d2d4d5fbc0ac3922c10f9a2',\n    'width': None}],\n  'name': 'All Out 90s',\n  'owner': {'display_name': 'Spotify',\n   'external_urls': {'spotify': 'https://open.spotify.com/user/spotify'},\n   'href': 'https://api.spotify.com/v1/users/spotify',\n   'id': 'spotify',\n   'type': 'user',\n   'uri': 'spotify:user:spotify'},\n  'primary_color': None,\n  'public': True,\n  'snapshot_id': 'MTY3OTQ4MTgwMiwwMDAwMDAwMGZmNDVmY2QxNjFjYjIyMjkxOTU0ZDQ2NThkMjYxYTJh',\n  'tracks': {'href': 'https://api.spotify.com/v1/playlists/37i9dQZF1DXbTxeAdrVG2l/tracks',\n   'total': 150},\n  'type': 'playlist',\n  'uri': 'spotify:playlist:37i9dQZF1DXbTxeAdrVG2l'},\n {'collaborative': False,\n  'description': 'The biggest songs of the 1980s.',\n  'external_urls': {'spotify': 'https://open.spotify.com/playlist/37i9dQZF1DX4UtSsGT1Sbe'},\n  'href': 'https://api.spotify.com/v1/playlists/37i9dQZF1DX4UtSsGT1Sbe',\n  'id': '37i9dQZF1DX4UtSsGT1Sbe',\n  'images': [{'height': None,\n    'url': 'https://i.scdn.co/image/ab67706f00000003e6ed19ecc791fce2ec58d005',\n    'width': None}],\n  'name': 'All Out 80s',\n  'owner': {'display_name': 'Spotify',\n   'external_urls': {'spotify': 'https://open.spotify.com/user/spotify'},\n   'href': 'https://api.spotify.com/v1/users/spotify',\n   'id': 'spotify',\n   'type': 'user',\n   'uri': 'spotify:user:spotify'},\n  'primary_color': None,\n  'public': True,\n  'snapshot_id': 'MTY3OTQ4MTkwMCwwMDAwMDAwMDViMTUwN2E2MGYzN2U0NmJmYTM1NzM3NTIzMGU2OWRj',\n  'tracks': {'href': 'https://api.spotify.com/v1/playlists/37i9dQZF1DX4UtSsGT1Sbe/tracks',\n   'total': 150},\n  'type': 'playlist',\n  'uri': 'spotify:playlist:37i9dQZF1DX4UtSsGT1Sbe'},\n {'collaborative': False,\n  'description': 'The biggest songs of the 1970s. \\n',\n  'external_urls': {'spotify': 'https://open.spotify.com/playlist/37i9dQZF1DWTJ7xPn4vNaz'},\n  'href': 'https://api.spotify.com/v1/playlists/37i9dQZF1DWTJ7xPn4vNaz',\n  'id': '37i9dQZF1DWTJ7xPn4vNaz',\n  'images': [{'height': None,\n    'url': 'https://i.scdn.co/image/ab67706f00000003bfe505a2aa8c863dd73d29fe',\n    'width': None}],\n  'name': 'All Out 70s',\n  'owner': {'display_name': 'Spotify',\n   'external_urls': {'spotify': 'https://open.spotify.com/user/spotify'},\n   'href': 'https://api.spotify.com/v1/users/spotify',\n   'id': 'spotify',\n   'type': 'user',\n   'uri': 'spotify:user:spotify'},\n  'primary_color': None,\n  'public': True,\n  'snapshot_id': 'MTY3OTQ4MTkzNiwwMDAwMDAwMGFlNjVlNGM2NDVkYjg2Mzc1NzJiMzU4ZmE5MzRlYzY1',\n  'tracks': {'href': 'https://api.spotify.com/v1/playlists/37i9dQZF1DWTJ7xPn4vNaz/tracks',\n   'total': 150},\n  'type': 'playlist',\n  'uri': 'spotify:playlist:37i9dQZF1DWTJ7xPn4vNaz'},\n {'collaborative': False,\n  'description': 'The biggest songs of the 1960s.\\n',\n  'external_urls': {'spotify': 'https://open.spotify.com/playlist/37i9dQZF1DXaKIA8E7WcJj'},\n  'href': 'https://api.spotify.com/v1/playlists/37i9dQZF1DXaKIA8E7WcJj',\n  'id': '37i9dQZF1DXaKIA8E7WcJj',\n  'images': [{'height': None,\n    'url': 'https://i.scdn.co/image/ab67706f000000037d2220cb073e82fe520555fc',\n    'width': None}],\n  'name': 'All Out 60s',\n  'owner': {'display_name': 'Spotify',\n   'external_urls': {'spotify': 'https://open.spotify.com/user/spotify'},\n   'href': 'https://api.spotify.com/v1/users/spotify',\n   'id': 'spotify',\n   'type': 'user',\n   'uri': 'spotify:user:spotify'},\n  'primary_color': None,\n  'public': True,\n  'snapshot_id': 'MTY3OTQ4MTk4MywwMDAwMDAwMGQ3ODlkNTJmY2YwNTk4OGI2NThmYzg3MTMxNjJhMjBm',\n  'tracks': {'href': 'https://api.spotify.com/v1/playlists/37i9dQZF1DXaKIA8E7WcJj/tracks',\n   'total': 150},\n  'type': 'playlist',\n  'uri': 'spotify:playlist:37i9dQZF1DXaKIA8E7WcJj'},\n {'collaborative': False,\n  'description': 'The biggest songs of the 1950s.',\n  'external_urls': {'spotify': 'https://open.spotify.com/playlist/37i9dQZF1DWSV3Tk4GO2fq'},\n  'href': 'https://api.spotify.com/v1/playlists/37i9dQZF1DWSV3Tk4GO2fq',\n  'id': '37i9dQZF1DWSV3Tk4GO2fq',\n  'images': [{'height': None,\n    'url': 'https://i.scdn.co/image/ab67706f000000036b7554eb13da03bc26f2d1dd',\n    'width': None}],\n  'name': 'All Out 50s',\n  'owner': {'display_name': 'Spotify',\n   'external_urls': {'spotify': 'https://open.spotify.com/user/spotify'},\n   'href': 'https://api.spotify.com/v1/users/spotify',\n   'id': 'spotify',\n   'type': 'user',\n   'uri': 'spotify:user:spotify'},\n  'primary_color': None,\n  'public': True,\n  'snapshot_id': 'MTY3OTQ4MjAxOSwwMDAwMDAwMGY3YmI1YzQ4OGNhZTM3NzkwNDFmYTdhY2RhMWJmODAw',\n  'tracks': {'href': 'https://api.spotify.com/v1/playlists/37i9dQZF1DWSV3Tk4GO2fq/tracks',\n   'total': 150},\n  'type': 'playlist',\n  'uri': 'spotify:playlist:37i9dQZF1DWSV3Tk4GO2fq'},\n {'collaborative': False,\n  'description': 'Warm familiar pop you know and love. Cover: Sam Smith',\n  'external_urls': {'spotify': 'https://open.spotify.com/playlist/37i9dQZF1DWTwnEm1IYyoj'},\n  'href': 'https://api.spotify.com/v1/playlists/37i9dQZF1DWTwnEm1IYyoj',\n  'id': '37i9dQZF1DWTwnEm1IYyoj',\n  'images': [{'height': None,\n    'url': 'https://i.scdn.co/image/ab67706f0000000387902d641aa9fd5454112f57',\n    'width': None}],\n  'name': 'Soft Pop Hits',\n  'owner': {'display_name': 'Spotify',\n   'external_urls': {'spotify': 'https://open.spotify.com/user/spotify'},\n   'href': 'https://api.spotify.com/v1/users/spotify',\n   'id': 'spotify',\n   'type': 'user',\n   'uri': 'spotify:user:spotify'},\n  'primary_color': None,\n  'public': True,\n  'snapshot_id': 'MTY3ODgyMTE1MiwwMDAwMDAwMDE2ZWRkZmFiOTI3ZWNiMDFiMzI0YTk1MjExZTgyMzZl',\n  'tracks': {'href': 'https://api.spotify.com/v1/playlists/37i9dQZF1DWTwnEm1IYyoj/tracks',\n   'total': 100},\n  'type': 'playlist',\n  'uri': 'spotify:playlist:37i9dQZF1DWTwnEm1IYyoj'},\n {'collaborative': False,\n  'description': 'Crossing over like Allen I. Cover: Drake',\n  'external_urls': {'spotify': 'https://open.spotify.com/playlist/37i9dQZF1DX2A29LI7xHn1'},\n  'href': 'https://api.spotify.com/v1/playlists/37i9dQZF1DX2A29LI7xHn1',\n  'id': '37i9dQZF1DX2A29LI7xHn1',\n  'images': [{'height': None,\n    'url': 'https://i.scdn.co/image/ab67706f000000037aaafcb0ddf54fcc6861dc62',\n    'width': None}],\n  'name': 'Signed XOXO',\n  'owner': {'display_name': 'Spotify',\n   'external_urls': {'spotify': 'https://open.spotify.com/user/spotify'},\n   'href': 'https://api.spotify.com/v1/users/spotify',\n   'id': 'spotify',\n   'type': 'user',\n   'uri': 'spotify:user:spotify'},\n  'primary_color': None,\n  'public': True,\n  'snapshot_id': 'MTY4MjY1NDQwMCwwMDAwMDAwMGRhNzNjNjEyMGY2NzJjMTcxY2VlN2EwY2VmZDlkMTNi',\n  'tracks': {'href': 'https://api.spotify.com/v1/playlists/37i9dQZF1DX2A29LI7xHn1/tracks',\n   'total': 100},\n  'type': 'playlist',\n  'uri': 'spotify:playlist:37i9dQZF1DX2A29LI7xHn1'},\n {'collaborative': False,\n  'description': 'The official voice of the next generation. Cover: <a href=\"spotify:artist:57n1OF36WvtOeATY6WQ6iw\">Digga D</a>',\n  'external_urls': {'spotify': 'https://open.spotify.com/playlist/37i9dQZF1DX2RxBh64BHjQ'},\n  'href': 'https://api.spotify.com/v1/playlists/37i9dQZF1DX2RxBh64BHjQ',\n  'id': '37i9dQZF1DX2RxBh64BHjQ',\n  'images': [{'height': None,\n    'url': 'https://i.scdn.co/image/ab67706f00000003b9727c053ee0c28a03f912f9',\n    'width': None}],\n  'name': 'Most Necessary',\n  'owner': {'display_name': 'Spotify',\n   'external_urls': {'spotify': 'https://open.spotify.com/user/spotify'},\n   'href': 'https://api.spotify.com/v1/users/spotify',\n   'id': 'spotify',\n   'type': 'user',\n   'uri': 'spotify:user:spotify'},\n  'primary_color': None,\n  'public': True,\n  'snapshot_id': 'MTY4MjY1NDQ2MCwwMDAwMDAwMDYwZTRmODFmYjcxYWMyZWQ4ZjIyNTY4MDg5NDljMjE1',\n  'tracks': {'href': 'https://api.spotify.com/v1/playlists/37i9dQZF1DX2RxBh64BHjQ/tracks',\n   'total': 100},\n  'type': 'playlist',\n  'uri': 'spotify:playlist:37i9dQZF1DX2RxBh64BHjQ'},\n {'collaborative': False,\n  'description': 'Taking it way back! Cover: 2pac',\n  'external_urls': {'spotify': 'https://open.spotify.com/playlist/37i9dQZF1DWVA1Gq4XHa6U'},\n  'href': 'https://api.spotify.com/v1/playlists/37i9dQZF1DWVA1Gq4XHa6U',\n  'id': '37i9dQZF1DWVA1Gq4XHa6U',\n  'images': [{'height': None,\n    'url': 'https://i.scdn.co/image/ab67706f00000003431a79c38e05179bbbed260a',\n    'width': None}],\n  'name': 'Gold School',\n  'owner': {'display_name': 'Spotify',\n   'external_urls': {'spotify': 'https://open.spotify.com/user/spotify'},\n   'href': 'https://api.spotify.com/v1/users/spotify',\n   'id': 'spotify',\n   'type': 'user',\n   'uri': 'spotify:user:spotify'},\n  'primary_color': None,\n  'public': True,\n  'snapshot_id': 'MTY4MjY1NDQwMCwwMDAwMDAwMDhmNTE3MjgxMjRiMzM4NGI4MjljNDIyYjFiNDFmNWFj',\n  'tracks': {'href': 'https://api.spotify.com/v1/playlists/37i9dQZF1DWVA1Gq4XHa6U/tracks',\n   'total': 50},\n  'type': 'playlist',\n  'uri': 'spotify:playlist:37i9dQZF1DWVA1Gq4XHa6U'},\n {'collaborative': False,\n  'description': 'Mode: Turnt',\n  'external_urls': {'spotify': 'https://open.spotify.com/playlist/37i9dQZF1DWY4xHQp97fN6'},\n  'href': 'https://api.spotify.com/v1/playlists/37i9dQZF1DWY4xHQp97fN6',\n  'id': '37i9dQZF1DWY4xHQp97fN6',\n  'images': [{'height': None,\n    'url': 'https://i.scdn.co/image/ab67706f000000039f1793da530100d28dd9c33c',\n    'width': None}],\n  'name': 'Get Turnt',\n  'owner': {'display_name': 'Spotify',\n   'external_urls': {'spotify': 'https://open.spotify.com/user/spotify'},\n   'href': 'https://api.spotify.com/v1/users/spotify',\n   'id': 'spotify',\n   'type': 'user',\n   'uri': 'spotify:user:spotify'},\n  'primary_color': None,\n  'public': True,\n  'snapshot_id': 'MTY4MjY1NDQwMCwwMDAwMDAwMDRkZTc3MmUxMGM5YWIzMzIxZGVmZGE0ODc4MDU1ODU0',\n  'tracks': {'href': 'https://api.spotify.com/v1/playlists/37i9dQZF1DWY4xHQp97fN6/tracks',\n   'total': 100},\n  'type': 'playlist',\n  'uri': 'spotify:playlist:37i9dQZF1DWY4xHQp97fN6'},\n {'collaborative': False,\n  'description': 'Hip-Hop + R&B: Before. Anything. Else. Cover: Karri',\n  'external_urls': {'spotify': 'https://open.spotify.com/playlist/37i9dQZF1DWX3387IZmjNa'},\n  'href': 'https://api.spotify.com/v1/playlists/37i9dQZF1DWX3387IZmjNa',\n  'id': '37i9dQZF1DWX3387IZmjNa',\n  'images': [{'height': None,\n    'url': 'https://i.scdn.co/image/ab67706f0000000340054f6a0dbf2545e0e0d94d',\n    'width': None}],\n  'name': 'B.A.E.',\n  'owner': {'display_name': 'Spotify',\n   'external_urls': {'spotify': 'https://open.spotify.com/user/spotify'},\n   'href': 'https://api.spotify.com/v1/users/spotify',\n   'id': 'spotify',\n   'type': 'user',\n   'uri': 'spotify:user:spotify'},\n  'primary_color': None,\n  'public': True,\n  'snapshot_id': 'MTY4MjY3Mzk1MiwwMDAwMDAwMDhkZTVkNDM4MGZkYzI2MmNjODA2Y2ExMTAxZmVkZGMw',\n  'tracks': {'href': 'https://api.spotify.com/v1/playlists/37i9dQZF1DWX3387IZmjNa/tracks',\n   'total': 50},\n  'type': 'playlist',\n  'uri': 'spotify:playlist:37i9dQZF1DWX3387IZmjNa'},\n {'collaborative': False,\n  'description': 'The tracks heating up the continent right now!  Cover: <a href=\"https://open.spotify.com/artist/2ayt5jDUuTCpoTG7sHSvuq?si=VZeSKttkSlWv8Ethgoy_lA\"> Stonebwoy</a>  ',\n  'external_urls': {'spotify': 'https://open.spotify.com/playlist/37i9dQZF1DWYkaDif7Ztbp'},\n  'href': 'https://api.spotify.com/v1/playlists/37i9dQZF1DWYkaDif7Ztbp',\n  'id': '37i9dQZF1DWYkaDif7Ztbp',\n  'images': [{'height': None,\n    'url': 'https://i.scdn.co/image/ab67706f0000000322e1df045a1eda9875d15494',\n    'width': None}],\n  'name': 'African Heat',\n  'owner': {'display_name': 'Spotify',\n   'external_urls': {'spotify': 'https://open.spotify.com/user/spotify'},\n   'href': 'https://api.spotify.com/v1/users/spotify',\n   'id': 'spotify',\n   'type': 'user',\n   'uri': 'spotify:user:spotify'},\n  'primary_color': None,\n  'public': True,\n  'snapshot_id': 'MTY4MjYzNjQwMCwwMDAwMDAwMGUwNDY5OWUyNjNhNmRiMWI1NTA1Y2Q1ZWQ4YjM2ZWQ4',\n  'tracks': {'href': 'https://api.spotify.com/v1/playlists/37i9dQZF1DWYkaDif7Ztbp/tracks',\n   'total': 50},\n  'type': 'playlist',\n  'uri': 'spotify:playlist:37i9dQZF1DWYkaDif7Ztbp'},\n {'collaborative': False,\n  'description': 'The best in new & current Dancehall. Cover: Shenseea',\n  'external_urls': {'spotify': 'https://open.spotify.com/playlist/37i9dQZF1DXan38dNVDdl4'},\n  'href': 'https://api.spotify.com/v1/playlists/37i9dQZF1DXan38dNVDdl4',\n  'id': '37i9dQZF1DXan38dNVDdl4',\n  'images': [{'height': None,\n    'url': 'https://i.scdn.co/image/ab67706f0000000311371c2ea8d720c15b73e660',\n    'width': None}],\n  'name': 'Dancehall Official',\n  'owner': {'display_name': 'Spotify',\n   'external_urls': {'spotify': 'https://open.spotify.com/user/spotify'},\n   'href': 'https://api.spotify.com/v1/users/spotify',\n   'id': 'spotify',\n   'type': 'user',\n   'uri': 'spotify:user:spotify'},\n  'primary_color': None,\n  'public': True,\n  'snapshot_id': 'MTY4MjA3ODA5MywwMDAwMDAwMDdlMThlYTJiNTk5OTEzYWEwNTcxYzVjNDU3MDA3NWNi',\n  'tracks': {'href': 'https://api.spotify.com/v1/playlists/37i9dQZF1DXan38dNVDdl4/tracks',\n   'total': 78},\n  'type': 'playlist',\n  'uri': 'spotify:playlist:37i9dQZF1DXan38dNVDdl4'},\n {'collaborative': False,\n  'description': \"Holdin' it down for the westside. Cover: OHGEESY\",\n  'external_urls': {'spotify': 'https://open.spotify.com/playlist/37i9dQZF1DWSvKsRPPnv5o'},\n  'href': 'https://api.spotify.com/v1/playlists/37i9dQZF1DWSvKsRPPnv5o',\n  'id': '37i9dQZF1DWSvKsRPPnv5o',\n  'images': [{'height': None,\n    'url': 'https://i.scdn.co/image/ab67706f0000000309f46937b66b934eb594a603',\n    'width': None}],\n  'name': 'Westside Story',\n  'owner': {'display_name': 'Spotify',\n   'external_urls': {'spotify': 'https://open.spotify.com/user/spotify'},\n   'href': 'https://api.spotify.com/v1/users/spotify',\n   'id': 'spotify',\n   'type': 'user',\n   'uri': 'spotify:user:spotify'},\n  'primary_color': None,\n  'public': True,\n  'snapshot_id': 'MTY4MjA0OTYwMCwwMDAwMDAwMDMzM2M1OGI0OGY3OGE1MzlhOTJiZWYxMGFiZDBlNmE1',\n  'tracks': {'href': 'https://api.spotify.com/v1/playlists/37i9dQZF1DWSvKsRPPnv5o/tracks',\n   'total': 55},\n  'type': 'playlist',\n  'uri': 'spotify:playlist:37i9dQZF1DWSvKsRPPnv5o'},\n {'collaborative': False,\n  'description': 'For whatever activity you do that may need a punch of intensity!',\n  'external_urls': {'spotify': 'https://open.spotify.com/playlist/37i9dQZF1DWUVpAXiEPK8P'},\n  'href': 'https://api.spotify.com/v1/playlists/37i9dQZF1DWUVpAXiEPK8P',\n  'id': '37i9dQZF1DWUVpAXiEPK8P',\n  'images': [{'height': None,\n    'url': 'https://i.scdn.co/image/ab67706f000000035b9afc20f73de2953ea450f7',\n    'width': None}],\n  'name': 'Power Workout',\n  'owner': {'display_name': 'Spotify',\n   'external_urls': {'spotify': 'https://open.spotify.com/user/spotify'},\n   'href': 'https://api.spotify.com/v1/users/spotify',\n   'id': 'spotify',\n   'type': 'user',\n   'uri': 'spotify:user:spotify'},\n  'primary_color': None,\n  'public': True,\n  'snapshot_id': 'MTY3Nzc5MjA1NCwwMDAwMDAwMDYzYjNiMzNlNzQwMThjZGRhZWY5YjhiNDM2NGFmY2Jk',\n  'tracks': {'href': 'https://api.spotify.com/v1/playlists/37i9dQZF1DWUVpAXiEPK8P/tracks',\n   'total': 50},\n  'type': 'playlist',\n  'uri': 'spotify:playlist:37i9dQZF1DWUVpAXiEPK8P'},\n {'collaborative': False,\n  'description': 'The hottest out the south. Cover: NLE Choppa',\n  'external_urls': {'spotify': 'https://open.spotify.com/playlist/37i9dQZF1DX0Tkc6ltcBfU'},\n  'href': 'https://api.spotify.com/v1/playlists/37i9dQZF1DX0Tkc6ltcBfU',\n  'id': '37i9dQZF1DX0Tkc6ltcBfU',\n  'images': [{'height': None,\n    'url': 'https://i.scdn.co/image/ab67706f00000003c7377f8e9fec50aeca594e31',\n    'width': None}],\n  'name': 'No Cap',\n  'owner': {'display_name': 'Spotify',\n   'external_urls': {'spotify': 'https://open.spotify.com/user/spotify'},\n   'href': 'https://api.spotify.com/v1/users/spotify',\n   'id': 'spotify',\n   'type': 'user',\n   'uri': 'spotify:user:spotify'},\n  'primary_color': None,\n  'public': True,\n  'snapshot_id': 'MTY4MjY1NDQwMCwwMDAwMDAwMDdhODc2NTE1YWVjNWNmZGMwZTc3NzBlYjI2Nzk5NDNl',\n  'tracks': {'href': 'https://api.spotify.com/v1/playlists/37i9dQZF1DX0Tkc6ltcBfU/tracks',\n   'total': 50},\n  'type': 'playlist',\n  'uri': 'spotify:playlist:37i9dQZF1DX0Tkc6ltcBfU'},\n {'collaborative': False,\n  'description': 'Up and down I-95. Cover: Ice Spice',\n  'external_urls': {'spotify': 'https://open.spotify.com/playlist/37i9dQZF1DX1YPTAhwehsC'},\n  'href': 'https://api.spotify.com/v1/playlists/37i9dQZF1DX1YPTAhwehsC',\n  'id': '37i9dQZF1DX1YPTAhwehsC',\n  'images': [{'height': None,\n    'url': 'https://i.scdn.co/image/ab67706f00000003e83f82c901297cb5d759e652',\n    'width': None}],\n  'name': 'State of Mind',\n  'owner': {'display_name': 'Spotify',\n   'external_urls': {'spotify': 'https://open.spotify.com/user/spotify'},\n   'href': 'https://api.spotify.com/v1/users/spotify',\n   'id': 'spotify',\n   'type': 'user',\n   'uri': 'spotify:user:spotify'},\n  'primary_color': None,\n  'public': True,\n  'snapshot_id': 'MTY4MjY1NDQ2MCwwMDAwMDAwMDhiMTYzM2Q3NjhmZTE2MjA3YTgwMjc4MjhlNDYxMjBj',\n  'tracks': {'href': 'https://api.spotify.com/v1/playlists/37i9dQZF1DX1YPTAhwehsC/tracks',\n   'total': 100},\n  'type': 'playlist',\n  'uri': 'spotify:playlist:37i9dQZF1DX1YPTAhwehsC'},\n {'collaborative': False,\n  'description': 'New, leftfield, and for the real hip-hop stans! Cover: KAYTRAMINÉ',\n  'external_urls': {'spotify': 'https://open.spotify.com/playlist/37i9dQZF1DWTggY0yqBxES'},\n  'href': 'https://api.spotify.com/v1/playlists/37i9dQZF1DWTggY0yqBxES',\n  'id': '37i9dQZF1DWTggY0yqBxES',\n  'images': [{'height': None,\n    'url': 'https://i.scdn.co/image/ab67706f0000000394a77f720bc2239be4262c32',\n    'width': None}],\n  'name': 'Alternative Hip-Hop',\n  'owner': {'display_name': 'Spotify',\n   'external_urls': {'spotify': 'https://open.spotify.com/user/spotify'},\n   'href': 'https://api.spotify.com/v1/users/spotify',\n   'id': 'spotify',\n   'type': 'user',\n   'uri': 'spotify:user:spotify'},\n  'primary_color': None,\n  'public': True,\n  'snapshot_id': 'MTY4MjY1NDQwMCwwMDAwMDAwMGI4NWYwZDNmM2I0ZDc4ZTU2NjRiZTgxNjEwMWIxZjUy',\n  'tracks': {'href': 'https://api.spotify.com/v1/playlists/37i9dQZF1DWTggY0yqBxES/tracks',\n   'total': 105},\n  'type': 'playlist',\n  'uri': 'spotify:playlist:37i9dQZF1DWTggY0yqBxES'},\n {'collaborative': False,\n  'description': 'Get your body right with this workout twerkout',\n  'external_urls': {'spotify': 'https://open.spotify.com/playlist/37i9dQZF1DX0HRj9P7NxeE'},\n  'href': 'https://api.spotify.com/v1/playlists/37i9dQZF1DX0HRj9P7NxeE',\n  'id': '37i9dQZF1DX0HRj9P7NxeE',\n  'images': [{'height': None,\n    'url': 'https://i.scdn.co/image/ab67706f000000031878edfb4e6347fda2c1eb38',\n    'width': None}],\n  'name': 'Workout Twerkout',\n  'owner': {'display_name': 'Spotify',\n   'external_urls': {'spotify': 'https://open.spotify.com/user/spotify'},\n   'href': 'https://api.spotify.com/v1/users/spotify',\n   'id': 'spotify',\n   'type': 'user',\n   'uri': 'spotify:user:spotify'},\n  'primary_color': None,\n  'public': True,\n  'snapshot_id': 'MTY4MjY1NDQwMCwwMDAwMDAwMDEwZGE5OTYwYTIxMjNjYWJlODRlZWE2MWQ4MjBlNTVk',\n  'tracks': {'href': 'https://api.spotify.com/v1/playlists/37i9dQZF1DX0HRj9P7NxeE/tracks',\n   'total': 50},\n  'type': 'playlist',\n  'uri': 'spotify:playlist:37i9dQZF1DX0HRj9P7NxeE'},\n {'collaborative': False,\n  'description': 'Afro sounds crossing borders.  Cover: <a href=\"https://open.spotify.com/artist/3tVQdUvClmAT7URs9V3rsp?si=cc4qsqDzSfS21lTakVte6w\">Wizkid</a>',\n  'external_urls': {'spotify': 'https://open.spotify.com/playlist/37i9dQZF1DWT6SJaitNDax'},\n  'href': 'https://api.spotify.com/v1/playlists/37i9dQZF1DWT6SJaitNDax',\n  'id': '37i9dQZF1DWT6SJaitNDax',\n  'images': [{'height': None,\n    'url': 'https://i.scdn.co/image/ab67706f000000032b34ce3968b900942d984239',\n    'width': None}],\n  'name': 'We Everywhere',\n  'owner': {'display_name': 'Spotify',\n   'external_urls': {'spotify': 'https://open.spotify.com/user/spotify'},\n   'href': 'https://api.spotify.com/v1/users/spotify',\n   'id': 'spotify',\n   'type': 'user',\n   'uri': 'spotify:user:spotify'},\n  'primary_color': None,\n  'public': True,\n  'snapshot_id': 'MTY3NDc1NDc3NCwwMDAwMDAwMGNhYmYzMTZkMGY5YTY2MWZmYjQ4M2ZlZjE1NzQwYjlh',\n  'tracks': {'href': 'https://api.spotify.com/v1/playlists/37i9dQZF1DWT6SJaitNDax/tracks',\n   'total': 100},\n  'type': 'playlist',\n  'uri': 'spotify:playlist:37i9dQZF1DWT6SJaitNDax'},\n {'collaborative': False,\n  'description': 'Saluting the songs and artists that have filled us with pride.',\n  'external_urls': {'spotify': 'https://open.spotify.com/playlist/37i9dQZF1DX2r0FByV5U4C'},\n  'href': 'https://api.spotify.com/v1/playlists/37i9dQZF1DX2r0FByV5U4C',\n  'id': '37i9dQZF1DX2r0FByV5U4C',\n  'images': [{'height': None,\n    'url': 'https://i.scdn.co/image/ab67706f00000003541ee6776be2adaf393ca8ea',\n    'width': None}],\n  'name': 'Black History Salute',\n  'owner': {'display_name': 'Spotify',\n   'external_urls': {'spotify': 'https://open.spotify.com/user/spotify'},\n   'href': 'https://api.spotify.com/v1/users/spotify',\n   'id': 'spotify',\n   'type': 'user',\n   'uri': 'spotify:user:spotify'},\n  'primary_color': None,\n  'public': True,\n  'snapshot_id': 'MTY3NDYyODg3NywwMDAwMDAwMGJiODM3OTQ0MTU4MjUxYThmNmYwMDUyN2UzZjk4NzQ4',\n  'tracks': {'href': 'https://api.spotify.com/v1/playlists/37i9dQZF1DX2r0FByV5U4C/tracks',\n   'total': 26},\n  'type': 'playlist',\n  'uri': 'spotify:playlist:37i9dQZF1DX2r0FByV5U4C'},\n {'collaborative': False,\n  'description': 'Your cheat sheet for everything on the rise in the rock/alt world. Cover: Knox',\n  'external_urls': {'spotify': 'https://open.spotify.com/playlist/37i9dQZF1DWT2jS7NwYPVI'},\n  'href': 'https://api.spotify.com/v1/playlists/37i9dQZF1DWT2jS7NwYPVI',\n  'id': '37i9dQZF1DWT2jS7NwYPVI',\n  'images': [{'height': None,\n    'url': 'https://i.scdn.co/image/ab67706f000000035070fe7022948407817ae331',\n    'width': None}],\n  'name': 'New Noise',\n  'owner': {'display_name': 'Spotify',\n   'external_urls': {'spotify': 'https://open.spotify.com/user/spotify'},\n   'href': 'https://api.spotify.com/v1/users/spotify',\n   'id': 'spotify',\n   'type': 'user',\n   'uri': 'spotify:user:spotify'},\n  'primary_color': None,\n  'public': True,\n  'snapshot_id': 'MTY4MjY1NDQ2MCwwMDAwMDAwMDI5MTgwYzk0MDUxNjhlZWI5M2UzYmVjYmU1YmRlMWY2',\n  'tracks': {'href': 'https://api.spotify.com/v1/playlists/37i9dQZF1DWT2jS7NwYPVI/tracks',\n   'total': 109},\n  'type': 'playlist',\n  'uri': 'spotify:playlist:37i9dQZF1DWT2jS7NwYPVI'},\n {'collaborative': False,\n  'description': 'No rules. No boundaries. Cover: K. Flay',\n  'external_urls': {'spotify': 'https://open.spotify.com/playlist/37i9dQZF1DX82GYcclJ3Ug'},\n  'href': 'https://api.spotify.com/v1/playlists/37i9dQZF1DX82GYcclJ3Ug',\n  'id': '37i9dQZF1DX82GYcclJ3Ug',\n  'images': [{'height': None,\n    'url': 'https://i.scdn.co/image/ab67706f00000003f6a3d123d9d7501d337689ba',\n    'width': None}],\n  'name': 'The New Alt',\n  'owner': {'display_name': 'Spotify',\n   'external_urls': {'spotify': 'https://open.spotify.com/user/spotify'},\n   'href': 'https://api.spotify.com/v1/users/spotify',\n   'id': 'spotify',\n   'type': 'user',\n   'uri': 'spotify:user:spotify'},\n  'primary_color': None,\n  'public': True,\n  'snapshot_id': 'MTY4MjY4ODY0NiwwMDAwMDAwMGQzMzgyODVhMDQ4YjRlYzc4NGM3ODVlM2E5YjgwZjdl',\n  'tracks': {'href': 'https://api.spotify.com/v1/playlists/37i9dQZF1DX82GYcclJ3Ug/tracks',\n   'total': 128},\n  'type': 'playlist',\n  'uri': 'spotify:playlist:37i9dQZF1DX82GYcclJ3Ug'},\n {'collaborative': False,\n  'description': 'New rock classics and essential cuts. Cover: System Of A Down',\n  'external_urls': {'spotify': 'https://open.spotify.com/playlist/37i9dQZF1DX49jUV2NfGku'},\n  'href': 'https://api.spotify.com/v1/playlists/37i9dQZF1DX49jUV2NfGku',\n  'id': '37i9dQZF1DX49jUV2NfGku',\n  'images': [{'height': None,\n    'url': 'https://i.scdn.co/image/ab67706f0000000367e6a81448d35164eaf06a36',\n    'width': None}],\n  'name': 'Rock Solid',\n  'owner': {'display_name': 'Spotify',\n   'external_urls': {'spotify': 'https://open.spotify.com/user/spotify'},\n   'href': 'https://api.spotify.com/v1/users/spotify',\n   'id': 'spotify',\n   'type': 'user',\n   'uri': 'spotify:user:spotify'},\n  'primary_color': None,\n  'public': True,\n  'snapshot_id': 'MTY4MjA0OTYwMCwwMDAwMDAwMDMxZGFkZDMwNzZkMzQ1YjlkNWU5ZTczNjdlYjAyM2Rm',\n  'tracks': {'href': 'https://api.spotify.com/v1/playlists/37i9dQZF1DX49jUV2NfGku/tracks',\n   'total': 75},\n  'type': 'playlist',\n  'uri': 'spotify:playlist:37i9dQZF1DX49jUV2NfGku'},\n {'collaborative': False,\n  'description': 'A look back at some of the most impactful songs of 2017.',\n  'external_urls': {'spotify': 'https://open.spotify.com/playlist/37i9dQZF1DX1Jg9KZ76Rr9'},\n  'href': 'https://api.spotify.com/v1/playlists/37i9dQZF1DX1Jg9KZ76Rr9',\n  'id': '37i9dQZF1DX1Jg9KZ76Rr9',\n  'images': [{'height': None,\n    'url': 'https://i.scdn.co/image/ab67706f000000035c21a744e28d69209cd4b1b7',\n    'width': None}],\n  'name': 'Rock This: Best of 2017',\n  'owner': {'display_name': 'Spotify',\n   'external_urls': {'spotify': 'https://open.spotify.com/user/spotify'},\n   'href': 'https://api.spotify.com/v1/users/spotify',\n   'id': 'spotify',\n   'type': 'user',\n   'uri': 'spotify:user:spotify'},\n  'primary_color': None,\n  'public': True,\n  'snapshot_id': 'MTUxMjgzNzA5MywwMDAwMDAwMDQ1YWU0Y2FlZDc3ODBmNDc4NWFmZTA5YzM0YTFmNTBl',\n  'tracks': {'href': 'https://api.spotify.com/v1/playlists/37i9dQZF1DX1Jg9KZ76Rr9/tracks',\n   'total': 100},\n  'type': 'playlist',\n  'uri': 'spotify:playlist:37i9dQZF1DX1Jg9KZ76Rr9'},\n {'collaborative': False,\n  'description': 'The ultimate rock party playlist!',\n  'external_urls': {'spotify': 'https://open.spotify.com/playlist/37i9dQZF1DX8FwnYE6PRvL'},\n  'href': 'https://api.spotify.com/v1/playlists/37i9dQZF1DX8FwnYE6PRvL',\n  'id': '37i9dQZF1DX8FwnYE6PRvL',\n  'images': [{'height': None,\n    'url': 'https://i.scdn.co/image/ab67706f0000000337ddb11424d6babc80f304ac',\n    'width': None}],\n  'name': 'Rock Party',\n  'owner': {'display_name': 'Spotify',\n   'external_urls': {'spotify': 'https://open.spotify.com/user/spotify'},\n   'href': 'https://api.spotify.com/v1/users/spotify',\n   'id': 'spotify',\n   'type': 'user',\n   'uri': 'spotify:user:spotify'},\n  'primary_color': None,\n  'public': True,\n  'snapshot_id': 'MTY3NTgwOTkzNSwwMDAwMDAwMGE4MzMxNTBiMjY4MDE5YmY0OThmZmYyYzMyODcwMjVh',\n  'tracks': {'href': 'https://api.spotify.com/v1/playlists/37i9dQZF1DX8FwnYE6PRvL/tracks',\n   'total': 100},\n  'type': 'playlist',\n  'uri': 'spotify:playlist:37i9dQZF1DX8FwnYE6PRvL'},\n {'collaborative': False,\n  'description': \"It's just us—and this awesome alt soundtrack.\",\n  'external_urls': {'spotify': 'https://open.spotify.com/playlist/37i9dQZF1DX6mvEU1S6INL'},\n  'href': 'https://api.spotify.com/v1/playlists/37i9dQZF1DX6mvEU1S6INL',\n  'id': '37i9dQZF1DX6mvEU1S6INL',\n  'images': [{'height': None,\n    'url': 'https://i.scdn.co/image/ab67706f000000031aede1ba8a54598a84c1771f',\n    'width': None}],\n  'name': 'You & Me',\n  'owner': {'display_name': 'Spotify',\n   'external_urls': {'spotify': 'https://open.spotify.com/user/spotify'},\n   'href': 'https://api.spotify.com/v1/users/spotify',\n   'id': 'spotify',\n   'type': 'user',\n   'uri': 'spotify:user:spotify'},\n  'primary_color': None,\n  'public': True,\n  'snapshot_id': 'MTY4MTc1MTkxNywwMDAwMDAwMGQ4ZTI4MGY4NjkxZjkxZTVhYTljOTNiZDhjMTAxZjJh',\n  'tracks': {'href': 'https://api.spotify.com/v1/playlists/37i9dQZF1DX6mvEU1S6INL/tracks',\n   'total': 100},\n  'type': 'playlist',\n  'uri': 'spotify:playlist:37i9dQZF1DX6mvEU1S6INL'},\n {'collaborative': False,\n  'description': 'have fun with it.',\n  'external_urls': {'spotify': 'https://open.spotify.com/playlist/37i9dQZF1DX2SK4ytI2KAZ'},\n  'href': 'https://api.spotify.com/v1/playlists/37i9dQZF1DX2SK4ytI2KAZ',\n  'id': '37i9dQZF1DX2SK4ytI2KAZ',\n  'images': [{'height': None,\n    'url': 'https://i.scdn.co/image/ab67706f00000003338006c0d251f3fc0ac4789b',\n    'width': None}],\n  'name': \"It's ALT Good!\",\n  'owner': {'display_name': 'Spotify',\n   'external_urls': {'spotify': 'https://open.spotify.com/user/spotify'},\n   'href': 'https://api.spotify.com/v1/users/spotify',\n   'id': 'spotify',\n   'type': 'user',\n   'uri': 'spotify:user:spotify'},\n  'primary_color': None,\n  'public': True,\n  'snapshot_id': 'MTY4MTIzMzU3MSwwMDAwMDAwMDMyMGU1ZGM3NjI0ZWNiOTgzYThiNjBkMzU1MGZjMTAw',\n  'tracks': {'href': 'https://api.spotify.com/v1/playlists/37i9dQZF1DX2SK4ytI2KAZ/tracks',\n   'total': 100},\n  'type': 'playlist',\n  'uri': 'spotify:playlist:37i9dQZF1DX2SK4ytI2KAZ'},\n {'collaborative': False,\n  'description': \"pop punk, emo, post-hardcore, alt. it's what you want it to be. Cover: Waterparks\",\n  'external_urls': {'spotify': 'https://open.spotify.com/playlist/37i9dQZF1DWZkHEX2YHpDV'},\n  'href': 'https://api.spotify.com/v1/playlists/37i9dQZF1DWZkHEX2YHpDV',\n  'id': '37i9dQZF1DWZkHEX2YHpDV',\n  'images': [{'height': None,\n    'url': 'https://i.scdn.co/image/ab67706f0000000345dfe40015b915dc40793af0',\n    'width': None}],\n  'name': 'The Scene',\n  'owner': {'display_name': 'Spotify',\n   'external_urls': {'spotify': 'https://open.spotify.com/user/spotify'},\n   'href': 'https://api.spotify.com/v1/users/spotify',\n   'id': 'spotify',\n   'type': 'user',\n   'uri': 'spotify:user:spotify'},\n  'primary_color': None,\n  'public': True,\n  'snapshot_id': 'MTY4MjY1NDQwMCwwMDAwMDAwMGIyMmI0OTg5MTU2ZGQxMGVkMDg0MDM4MmRmODcwY2M4',\n  'tracks': {'href': 'https://api.spotify.com/v1/playlists/37i9dQZF1DWZkHEX2YHpDV/tracks',\n   'total': 100},\n  'type': 'playlist',\n  'uri': 'spotify:playlist:37i9dQZF1DWZkHEX2YHpDV'},\n {'collaborative': False,\n  'description': 'The hardest songs, loud. Very loud. Cover: Beartooth',\n  'external_urls': {'spotify': 'https://open.spotify.com/playlist/37i9dQZF1DWWJOmJ7nRx0C'},\n  'href': 'https://api.spotify.com/v1/playlists/37i9dQZF1DWWJOmJ7nRx0C',\n  'id': '37i9dQZF1DWWJOmJ7nRx0C',\n  'images': [{'height': None,\n    'url': 'https://i.scdn.co/image/ab67706f000000031f746d73041716cca2fa95d0',\n    'width': None}],\n  'name': 'Rock Hard',\n  'owner': {'display_name': 'Spotify',\n   'external_urls': {'spotify': 'https://open.spotify.com/user/spotify'},\n   'href': 'https://api.spotify.com/v1/users/spotify',\n   'id': 'spotify',\n   'type': 'user',\n   'uri': 'spotify:user:spotify'},\n  'primary_color': None,\n  'public': True,\n  'snapshot_id': 'MTY4MjY1NDQwMCwwMDAwMDAwMDI4MWNkMzNhZTQ3MGZlM2U4NThhMDg2MzVhZWEyYjU0',\n  'tracks': {'href': 'https://api.spotify.com/v1/playlists/37i9dQZF1DWWJOmJ7nRx0C/tracks',\n   'total': 151},\n  'type': 'playlist',\n  'uri': 'spotify:playlist:37i9dQZF1DWWJOmJ7nRx0C'},\n {'collaborative': False,\n  'description': 'This is Ryan Adams. The essential tracks, all in one playlist.',\n  'external_urls': {'spotify': 'https://open.spotify.com/playlist/37i9dQZF1DZ06evO1nTCV2'},\n  'href': 'https://api.spotify.com/v1/playlists/37i9dQZF1DZ06evO1nTCV2',\n  'id': '37i9dQZF1DZ06evO1nTCV2',\n  'images': [{'height': None,\n    'url': 'https://thisis-images.scdn.co/37i9dQZF1DZ06evO1nTCV2-large.jpg',\n    'width': None}],\n  'name': 'This Is Ryan Adams',\n  'owner': {'display_name': 'Spotify',\n   'external_urls': {'spotify': 'https://open.spotify.com/user/spotify'},\n   'href': 'https://api.spotify.com/v1/users/spotify',\n   'id': 'spotify',\n   'type': 'user',\n   'uri': 'spotify:user:spotify'},\n  'primary_color': None,\n  'public': True,\n  'snapshot_id': 'MjgwNDYyMjUsMDAwMDAwMDA3YWFiYjQzOTgzNjMwZTI4NmM5NWZhNDE2YTI3OGQwYg==',\n  'tracks': {'href': 'https://api.spotify.com/v1/playlists/37i9dQZF1DZ06evO1nTCV2/tracks',\n   'total': 51},\n  'type': 'playlist',\n  'uri': 'spotify:playlist:37i9dQZF1DZ06evO1nTCV2'},\n {'collaborative': False,\n  'description': 'This is The Black Keys. The essential tracks, all in one playlist.',\n  'external_urls': {'spotify': 'https://open.spotify.com/playlist/37i9dQZF1DZ06evO4m87u0'},\n  'href': 'https://api.spotify.com/v1/playlists/37i9dQZF1DZ06evO4m87u0',\n  'id': '37i9dQZF1DZ06evO4m87u0',\n  'images': [{'height': None,\n    'url': 'https://thisis-images.scdn.co/37i9dQZF1DZ06evO4m87u0-large.jpg',\n    'width': None}],\n  'name': 'This Is The Black Keys',\n  'owner': {'display_name': 'Spotify',\n   'external_urls': {'spotify': 'https://open.spotify.com/user/spotify'},\n   'href': 'https://api.spotify.com/v1/users/spotify',\n   'id': 'spotify',\n   'type': 'user',\n   'uri': 'spotify:user:spotify'},\n  'primary_color': None,\n  'public': True,\n  'snapshot_id': 'MjgwNDYyMjUsMDAwMDAwMDBhZDIwOTM4NGM3YWM1ZDQwMjFmMDVlNzM4MGE5OTRmMw==',\n  'tracks': {'href': 'https://api.spotify.com/v1/playlists/37i9dQZF1DZ06evO4m87u0/tracks',\n   'total': 50},\n  'type': 'playlist',\n  'uri': 'spotify:playlist:37i9dQZF1DZ06evO4m87u0'},\n {'collaborative': False,\n  'description': 'This is Tom Petty and the Heartbreakers. The essential tracks, all in one playlist.',\n  'external_urls': {'spotify': 'https://open.spotify.com/playlist/37i9dQZF1DZ06evO2CLCA8'},\n  'href': 'https://api.spotify.com/v1/playlists/37i9dQZF1DZ06evO2CLCA8',\n  'id': '37i9dQZF1DZ06evO2CLCA8',\n  'images': [{'height': None,\n    'url': 'https://thisis-images.scdn.co/37i9dQZF1DZ06evO2CLCA8-large.jpg',\n    'width': None}],\n  'name': 'This Is Tom Petty and the Heartbreakers',\n  'owner': {'display_name': 'Spotify',\n   'external_urls': {'spotify': 'https://open.spotify.com/user/spotify'},\n   'href': 'https://api.spotify.com/v1/users/spotify',\n   'id': 'spotify',\n   'type': 'user',\n   'uri': 'spotify:user:spotify'},\n  'primary_color': None,\n  'public': True,\n  'snapshot_id': 'MjgwNDYyMjUsMDAwMDAwMDA1NGRmMTlhMDMxNzAyNDIzM2Q3NzEwYTQxZWEwMWUzZA==',\n  'tracks': {'href': 'https://api.spotify.com/v1/playlists/37i9dQZF1DZ06evO2CLCA8/tracks',\n   'total': 50},\n  'type': 'playlist',\n  'uri': 'spotify:playlist:37i9dQZF1DZ06evO2CLCA8'},\n {'collaborative': False,\n  'description': 'This is Nirvana. The essential tracks, all in one playlist.',\n  'external_urls': {'spotify': 'https://open.spotify.com/playlist/37i9dQZF1DZ06evO3M0Fbi'},\n  'href': 'https://api.spotify.com/v1/playlists/37i9dQZF1DZ06evO3M0Fbi',\n  'id': '37i9dQZF1DZ06evO3M0Fbi',\n  'images': [{'height': None,\n    'url': 'https://thisis-images.scdn.co/37i9dQZF1DZ06evO3M0Fbi-large.jpg',\n    'width': None}],\n  'name': 'This Is Nirvana',\n  'owner': {'display_name': 'Spotify',\n   'external_urls': {'spotify': 'https://open.spotify.com/user/spotify'},\n   'href': 'https://api.spotify.com/v1/users/spotify',\n   'id': 'spotify',\n   'type': 'user',\n   'uri': 'spotify:user:spotify'},\n  'primary_color': None,\n  'public': True,\n  'snapshot_id': 'MjgwNDYyMjUsMDAwMDAwMDA5ZTg0ZDQ5MDFhNzAyNjNlZTE2ODA4ZTNmMzc2YzdmZA==',\n  'tracks': {'href': 'https://api.spotify.com/v1/playlists/37i9dQZF1DZ06evO3M0Fbi/tracks',\n   'total': 39},\n  'type': 'playlist',\n  'uri': 'spotify:playlist:37i9dQZF1DZ06evO3M0Fbi'},\n {'collaborative': False,\n  'description': 'This is Ramones. The essential tracks, all in one playlist.',\n  'external_urls': {'spotify': 'https://open.spotify.com/playlist/37i9dQZF1DZ06evO0EhHXi'},\n  'href': 'https://api.spotify.com/v1/playlists/37i9dQZF1DZ06evO0EhHXi',\n  'id': '37i9dQZF1DZ06evO0EhHXi',\n  'images': [{'height': None,\n    'url': 'https://thisis-images.scdn.co/37i9dQZF1DZ06evO0EhHXi-large.jpg',\n    'width': None}],\n  'name': 'This Is Ramones',\n  'owner': {'display_name': 'Spotify',\n   'external_urls': {'spotify': 'https://open.spotify.com/user/spotify'},\n   'href': 'https://api.spotify.com/v1/users/spotify',\n   'id': 'spotify',\n   'type': 'user',\n   'uri': 'spotify:user:spotify'},\n  'primary_color': None,\n  'public': True,\n  'snapshot_id': 'MjgwNDYyMjUsMDAwMDAwMDBjZjg0NWE0ZjNmNjlhNjBjNDM2OTM1NmI3ZGE4ZGVkMA==',\n  'tracks': {'href': 'https://api.spotify.com/v1/playlists/37i9dQZF1DZ06evO0EhHXi/tracks',\n   'total': 50},\n  'type': 'playlist',\n  'uri': 'spotify:playlist:37i9dQZF1DZ06evO0EhHXi'},\n {'collaborative': False,\n  'description': 'This is Green Day. The essential tracks, all in one playlist.',\n  'external_urls': {'spotify': 'https://open.spotify.com/playlist/37i9dQZF1DZ06evO4nBpII'},\n  'href': 'https://api.spotify.com/v1/playlists/37i9dQZF1DZ06evO4nBpII',\n  'id': '37i9dQZF1DZ06evO4nBpII',\n  'images': [{'height': None,\n    'url': 'https://thisis-images.scdn.co/37i9dQZF1DZ06evO4nBpII-large.jpg',\n    'width': None}],\n  'name': 'This Is Green Day',\n  'owner': {'display_name': 'Spotify',\n   'external_urls': {'spotify': 'https://open.spotify.com/user/spotify'},\n   'href': 'https://api.spotify.com/v1/users/spotify',\n   'id': 'spotify',\n   'type': 'user',\n   'uri': 'spotify:user:spotify'},\n  'primary_color': None,\n  'public': True,\n  'snapshot_id': 'MjgwNDYyMjYsMDAwMDAwMDA4NWU1OGJkZTRkNjQwOGI5MTc1YjlmMDNmYTIxZjBlMQ==',\n  'tracks': {'href': 'https://api.spotify.com/v1/playlists/37i9dQZF1DZ06evO4nBpII/tracks',\n   'total': 50},\n  'type': 'playlist',\n  'uri': 'spotify:playlist:37i9dQZF1DZ06evO4nBpII'},\n {'collaborative': False,\n  'description': \"This is Jane's Addiction. The essential tracks, all in one playlist.\",\n  'external_urls': {'spotify': 'https://open.spotify.com/playlist/37i9dQZF1DZ06evNZXcOE4'},\n  'href': 'https://api.spotify.com/v1/playlists/37i9dQZF1DZ06evNZXcOE4',\n  'id': '37i9dQZF1DZ06evNZXcOE4',\n  'images': [{'height': None,\n    'url': 'https://thisis-images.scdn.co/37i9dQZF1DZ06evNZXcOE4-large.jpg',\n    'width': None}],\n  'name': \"This Is Jane's Addiction\",\n  'owner': {'display_name': 'Spotify',\n   'external_urls': {'spotify': 'https://open.spotify.com/user/spotify'},\n   'href': 'https://api.spotify.com/v1/users/spotify',\n   'id': 'spotify',\n   'type': 'user',\n   'uri': 'spotify:user:spotify'},\n  'primary_color': None,\n  'public': True,\n  'snapshot_id': 'MjgwNDYyMjUsMDAwMDAwMDBjNGJhYThlMzllYjcwYmRmYTQ1MTIzMDk2YWU3NTk5Mw==',\n  'tracks': {'href': 'https://api.spotify.com/v1/playlists/37i9dQZF1DZ06evNZXcOE4/tracks',\n   'total': 39},\n  'type': 'playlist',\n  'uri': 'spotify:playlist:37i9dQZF1DZ06evNZXcOE4'}]"
     },
     "execution_count": 37,
     "metadata": {},
     "output_type": "execute_result"
    }
   ],
   "source": [
    "playlists = sp.user_playlists('spotify')\n",
    "playlists[\"items\"]"
   ],
   "metadata": {
    "collapsed": false
   }
  },
  {
   "cell_type": "code",
   "execution_count": 38,
   "outputs": [],
   "source": [
    "# get playlists from spotify\n",
    "playlists = sp.user_playlists('spotify')\n",
    "playlist_id_lst = []\n",
    "while playlists:\n",
    "    for i, playlist in enumerate(playlists['items']):\n",
    "        playlist_id_lst.append(playlist[\"uri\"])\n",
    "    if playlist['uri']:\n",
    "        playlists = sp.next(playlists)\n",
    "    else:\n",
    "        pass"
   ],
   "metadata": {
    "collapsed": false
   }
  },
  {
   "cell_type": "markdown",
   "source": [
    "## 2. get track ids from playlists"
   ],
   "metadata": {
    "collapsed": false
   }
  },
  {
   "cell_type": "code",
   "execution_count": 39,
   "outputs": [],
   "source": [
    "user = \"spotify\"\n",
    "# define function to get tracks from a playlist\n",
    "def get_playlist_tracks(username, playlist_id):\n",
    "    tracks = []\n",
    "    results = sp.user_playlist_tracks(user=username, playlist_id=playlist_id, fields=\"items.track.id\", limit=20)\n",
    "    for i, result in enumerate(results[\"items\"]):\n",
    "        tracks.append(result[\"track\"][\"id\"])\n",
    "    #while results['next']:\n",
    "     #   results = sp.next(results)\n",
    "     #   tracks.extend(results['items'])\n",
    "    return tracks"
   ],
   "metadata": {
    "collapsed": false
   }
  },
  {
   "cell_type": "code",
   "execution_count": 40,
   "outputs": [],
   "source": [
    "# make list of tracks from the first 20 songs in each playlist contained in playlist_id_lst\n",
    "tracks = []\n",
    "for item in playlist_id_lst:\n",
    "    try:\n",
    "        tracks.extend(get_playlist_tracks(user, item))\n",
    "    except:\n",
    "        pass"
   ],
   "metadata": {
    "collapsed": false
   }
  },
  {
   "cell_type": "code",
   "execution_count": 41,
   "outputs": [
    {
     "data": {
      "text/plain": "22339"
     },
     "execution_count": 41,
     "metadata": {},
     "output_type": "execute_result"
    }
   ],
   "source": [
    "len(tracks)"
   ],
   "metadata": {
    "collapsed": false
   }
  },
  {
   "cell_type": "code",
   "execution_count": 42,
   "outputs": [],
   "source": [
    "# make a dataframe containing only the ids\n",
    "df_tracks = pd.DataFrame(data = tracks, columns=[\"ID\"])"
   ],
   "metadata": {
    "collapsed": false
   }
  },
  {
   "cell_type": "code",
   "execution_count": 43,
   "outputs": [
    {
     "data": {
      "text/plain": "22339"
     },
     "execution_count": 43,
     "metadata": {},
     "output_type": "execute_result"
    }
   ],
   "source": [
    "len(df_tracks)"
   ],
   "metadata": {
    "collapsed": false
   }
  },
  {
   "cell_type": "code",
   "execution_count": 44,
   "outputs": [],
   "source": [
    "# save track ids to csv\n",
    "df_tracks.to_csv(\"tracks.csv\", index=False)"
   ],
   "metadata": {
    "collapsed": false
   }
  },
  {
   "cell_type": "markdown",
   "source": [
    "## 3. get features of tracks (takes 5-10 min)"
   ],
   "metadata": {
    "collapsed": false
   }
  },
  {
   "cell_type": "code",
   "execution_count": 38,
   "outputs": [],
   "source": [
    "def get_track_id(song):\n",
    "    id = sp.search(q=song,limit=1)[\"tracks\"][\"items\"][0][\"id\"]\n",
    "    return id"
   ],
   "metadata": {
    "collapsed": false
   }
  },
  {
   "cell_type": "code",
   "execution_count": 39,
   "outputs": [],
   "source": [
    "def get_features(track_id):\n",
    "    features = []\n",
    "    features.extend(sp.audio_features(track_id))\n",
    "    features = pd.DataFrame(features, columns=[\"danceability\",\"energy\",\"loudness\",\"mode\",\"speechiness\",\"acousticness\", \"instrumentalness\",\"liveness\",\"valence\",\"tempo\",\"id\",\"duration_ms\"])\n",
    "    features.index = features[\"id\"]\n",
    "    features = features.drop(\"id\", axis=1)\n",
    "    return features"
   ],
   "metadata": {
    "collapsed": false
   }
  },
  {
   "cell_type": "code",
   "execution_count": 90,
   "outputs": [],
   "source": [
    "df_tracks = df_tracks.dropna()"
   ],
   "metadata": {
    "collapsed": false
   }
  },
  {
   "cell_type": "code",
   "execution_count": 5,
   "outputs": [],
   "source": [
    "df_tracks = pd.read_csv(\"tracks.csv\")"
   ],
   "metadata": {
    "collapsed": false
   }
  },
  {
   "cell_type": "code",
   "execution_count": 13,
   "outputs": [],
   "source": [
    "features_df = pd.DataFrame(data=[], columns=[\"danceability\",\"energy\",\"loudness\",\"mode\",\"speechiness\",\"acousticness\", \"instrumentalness\",\"liveness\",\"valence\",\"tempo\",\"duration_ms\"])\n",
    "for track in df_tracks[\"ID\"]:\n",
    "    try:\n",
    "        features_df = pd.concat([features_df, get_features(track)], axis=0)\n",
    "    except:\n",
    "        pass"
   ],
   "metadata": {
    "collapsed": false
   }
  },
  {
   "cell_type": "code",
   "execution_count": 17,
   "outputs": [],
   "source": [
    "# save features to csv\n",
    "features_df.to_csv(\"features.csv\")"
   ],
   "metadata": {
    "collapsed": false
   }
  },
  {
   "cell_type": "markdown",
   "source": [
    "## 4. scale the data"
   ],
   "metadata": {
    "collapsed": false
   }
  },
  {
   "cell_type": "code",
   "execution_count": 10,
   "outputs": [],
   "source": [
    "# define function to load data from pkl files\n",
    "def load(filename):\n",
    "    try:\n",
    "        with open(\"Model/\"+ filename, \"rb\") as f:\n",
    "            return pickle.load(f)\n",
    "    except FileNotFoundError:\n",
    "        print(\"File not found!\")"
   ],
   "metadata": {
    "collapsed": false
   }
  },
  {
   "cell_type": "code",
   "execution_count": 11,
   "outputs": [],
   "source": [
    "def scale_input(X):\n",
    "    # load scaler fit from training data\n",
    "    scaler = load(\"scaler_22k.pkl\")\n",
    "    X_scaled = scaler.transform(X)\n",
    "    X_scaled_df = pd.DataFrame(X_scaled, columns = X.columns, index=X.index)\n",
    "    return X_scaled_df\n",
    "#display(scale_input(get_features(get_track_id(\"test\"))))"
   ],
   "metadata": {
    "collapsed": false
   }
  },
  {
   "cell_type": "code",
   "execution_count": 21,
   "outputs": [],
   "source": [
    "scaler = StandardScaler()\n",
    "scaler.fit(X)\n",
    "X_scaled = scaler.transform(X)\n",
    "X_scaled_df = pd.DataFrame(X_scaled, columns = X.columns, index=X.index)"
   ],
   "metadata": {
    "collapsed": false
   }
  },
  {
   "cell_type": "markdown",
   "source": [
    "# save scaler in pickle file\n",
    "with open(\"Model/scaler_22k.pkl\", \"wb\") as f:\n",
    "    pickle.dump(scaler, f)"
   ],
   "metadata": {
    "collapsed": false
   }
  },
  {
   "cell_type": "code",
   "execution_count": 5,
   "outputs": [],
   "source": [
    "features_df = pd.read_csv(\"features.csv\")"
   ],
   "metadata": {
    "collapsed": false
   }
  },
  {
   "cell_type": "code",
   "execution_count": 15,
   "outputs": [],
   "source": [
    "scaler = load(\"scaler_22k.pkl\")"
   ],
   "metadata": {
    "collapsed": false
   }
  },
  {
   "cell_type": "code",
   "execution_count": 12,
   "outputs": [
    {
     "ename": "NameError",
     "evalue": "name 'X' is not defined",
     "output_type": "error",
     "traceback": [
      "\u001B[1;31m---------------------------------------------------------------------------\u001B[0m",
      "\u001B[1;31mNameError\u001B[0m                                 Traceback (most recent call last)",
      "\u001B[1;32m~\\AppData\\Local\\Temp\\ipykernel_1952\\3371984873.py\u001B[0m in \u001B[0;36m<module>\u001B[1;34m\u001B[0m\n\u001B[1;32m----> 1\u001B[1;33m \u001B[0mX_scaled_df\u001B[0m \u001B[1;33m=\u001B[0m \u001B[0mscale_input\u001B[0m\u001B[1;33m(\u001B[0m\u001B[0mX\u001B[0m\u001B[1;33m)\u001B[0m\u001B[1;33m\u001B[0m\u001B[1;33m\u001B[0m\u001B[0m\n\u001B[0m",
      "\u001B[1;31mNameError\u001B[0m: name 'X' is not defined"
     ]
    }
   ],
   "source": [
    "X_scaled_df = scale_input(X)"
   ],
   "metadata": {
    "collapsed": false
   }
  },
  {
   "cell_type": "markdown",
   "source": [
    "## 5. create clusters"
   ],
   "metadata": {
    "collapsed": false
   }
  },
  {
   "cell_type": "markdown",
   "source": [
    "K = range(2, 20)\n",
    "silhouette = []\n",
    "\n",
    "for k in K:\n",
    "    kmeans = KMeans(n_clusters=k,\n",
    "                    random_state=1234)\n",
    "    kmeans.fit(X_scaled_df)\n",
    "\n",
    "    filename = \"Model/kmeans_\" + str(k) + \".pickle\"\n",
    "    with open(filename, \"wb\") as f:\n",
    "        pickle.dump(kmeans,f)\n",
    "\n",
    "    silhouette.append(silhouette_score(X_scaled_df, kmeans.predict(X_scaled_df)))\n",
    "\n",
    "plt.figure(figsize=(16,8))\n",
    "plt.plot(K, silhouette, 'bx-')\n",
    "plt.xlabel('k')\n",
    "plt.ylabel('silhouette score')\n",
    "plt.xticks(np.arange(min(K), max(K)+1, 1.0))\n",
    "plt.title('Silhouette Method showing the optimal k')"
   ],
   "metadata": {
    "collapsed": false
   }
  },
  {
   "cell_type": "code",
   "execution_count": 17,
   "outputs": [
    {
     "ename": "NameError",
     "evalue": "name 'X_scaled_df' is not defined",
     "output_type": "error",
     "traceback": [
      "\u001B[1;31m---------------------------------------------------------------------------\u001B[0m",
      "\u001B[1;31mNameError\u001B[0m                                 Traceback (most recent call last)",
      "\u001B[1;32m~\\AppData\\Local\\Temp\\ipykernel_1952\\870360706.py\u001B[0m in \u001B[0;36m<module>\u001B[1;34m\u001B[0m\n\u001B[0;32m      1\u001B[0m \u001B[0mkmeans12\u001B[0m \u001B[1;33m=\u001B[0m \u001B[0mKMeans\u001B[0m\u001B[1;33m(\u001B[0m\u001B[0mn_clusters\u001B[0m\u001B[1;33m=\u001B[0m\u001B[1;36m12\u001B[0m\u001B[1;33m,\u001B[0m \u001B[0mrandom_state\u001B[0m\u001B[1;33m=\u001B[0m\u001B[1;36m1234\u001B[0m\u001B[1;33m)\u001B[0m\u001B[1;33m\u001B[0m\u001B[1;33m\u001B[0m\u001B[0m\n\u001B[1;32m----> 2\u001B[1;33m \u001B[0mkmeans12\u001B[0m\u001B[1;33m.\u001B[0m\u001B[0mfit\u001B[0m\u001B[1;33m(\u001B[0m\u001B[0mX_scaled_df\u001B[0m\u001B[1;33m)\u001B[0m\u001B[1;33m\u001B[0m\u001B[1;33m\u001B[0m\u001B[0m\n\u001B[0m",
      "\u001B[1;31mNameError\u001B[0m: name 'X_scaled_df' is not defined"
     ]
    }
   ],
   "source": [
    "kmeans12 = KMeans(n_clusters=12, random_state=1234)\n",
    "kmeans12.fit(X_scaled_df)"
   ],
   "metadata": {
    "collapsed": false
   }
  },
  {
   "cell_type": "code",
   "execution_count": 23,
   "outputs": [
    {
     "ename": "NameError",
     "evalue": "name 'kmeans' is not defined",
     "output_type": "error",
     "traceback": [
      "\u001B[1;31m---------------------------------------------------------------------------\u001B[0m",
      "\u001B[1;31mNameError\u001B[0m                                 Traceback (most recent call last)",
      "\u001B[1;32m~\\AppData\\Local\\Temp\\ipykernel_16872\\2006430785.py\u001B[0m in \u001B[0;36m<module>\u001B[1;34m\u001B[0m\n\u001B[0;32m      2\u001B[0m \u001B[0mfilename\u001B[0m \u001B[1;33m=\u001B[0m \u001B[1;34m\"Model/kmeans_12.pickle\"\u001B[0m\u001B[1;33m\u001B[0m\u001B[1;33m\u001B[0m\u001B[0m\n\u001B[0;32m      3\u001B[0m \u001B[1;32mwith\u001B[0m \u001B[0mopen\u001B[0m\u001B[1;33m(\u001B[0m\u001B[0mfilename\u001B[0m\u001B[1;33m,\u001B[0m \u001B[1;34m\"wb\"\u001B[0m\u001B[1;33m)\u001B[0m \u001B[1;32mas\u001B[0m \u001B[0mf\u001B[0m\u001B[1;33m:\u001B[0m\u001B[1;33m\u001B[0m\u001B[1;33m\u001B[0m\u001B[0m\n\u001B[1;32m----> 4\u001B[1;33m     \u001B[0mpickle\u001B[0m\u001B[1;33m.\u001B[0m\u001B[0mdump\u001B[0m\u001B[1;33m(\u001B[0m\u001B[0mkmeans\u001B[0m\u001B[1;33m,\u001B[0m\u001B[0mf\u001B[0m\u001B[1;33m)\u001B[0m\u001B[1;33m\u001B[0m\u001B[1;33m\u001B[0m\u001B[0m\n\u001B[0m",
      "\u001B[1;31mNameError\u001B[0m: name 'kmeans' is not defined"
     ]
    }
   ],
   "source": [
    "# save kmeans in pickle file\n",
    "file_path2 = \"Model/kmeans_12.pickle\"\n",
    "with open(file_path2, \"wb\") as f:\n",
    "    pickle.dump(kmeans12,f)"
   ],
   "metadata": {
    "collapsed": false
   }
  },
  {
   "cell_type": "code",
   "execution_count": 16,
   "outputs": [
    {
     "ename": "EOFError",
     "evalue": "Ran out of input",
     "output_type": "error",
     "traceback": [
      "\u001B[1;31m---------------------------------------------------------------------------\u001B[0m",
      "\u001B[1;31mEOFError\u001B[0m                                  Traceback (most recent call last)",
      "\u001B[1;32m~\\AppData\\Local\\Temp\\ipykernel_1952\\1445084126.py\u001B[0m in \u001B[0;36m<module>\u001B[1;34m\u001B[0m\n\u001B[0;32m      1\u001B[0m \u001B[1;31m# open a file, where you stored the pickled data\u001B[0m\u001B[1;33m\u001B[0m\u001B[1;33m\u001B[0m\u001B[0m\n\u001B[1;32m----> 2\u001B[1;33m \u001B[0mkmeans12\u001B[0m \u001B[1;33m=\u001B[0m \u001B[0mload\u001B[0m\u001B[1;33m(\u001B[0m\u001B[1;34m\"kmeans_12.pickle\"\u001B[0m\u001B[1;33m)\u001B[0m\u001B[1;33m\u001B[0m\u001B[1;33m\u001B[0m\u001B[0m\n\u001B[0m\u001B[0;32m      3\u001B[0m \u001B[1;33m\u001B[0m\u001B[0m\n",
      "\u001B[1;32m~\\AppData\\Local\\Temp\\ipykernel_1952\\2984827842.py\u001B[0m in \u001B[0;36mload\u001B[1;34m(filename)\u001B[0m\n\u001B[0;32m      3\u001B[0m     \u001B[1;32mtry\u001B[0m\u001B[1;33m:\u001B[0m\u001B[1;33m\u001B[0m\u001B[1;33m\u001B[0m\u001B[0m\n\u001B[0;32m      4\u001B[0m         \u001B[1;32mwith\u001B[0m \u001B[0mopen\u001B[0m\u001B[1;33m(\u001B[0m\u001B[1;34m\"Model/\"\u001B[0m\u001B[1;33m+\u001B[0m \u001B[0mfilename\u001B[0m\u001B[1;33m,\u001B[0m \u001B[1;34m\"rb\"\u001B[0m\u001B[1;33m)\u001B[0m \u001B[1;32mas\u001B[0m \u001B[0mf\u001B[0m\u001B[1;33m:\u001B[0m\u001B[1;33m\u001B[0m\u001B[1;33m\u001B[0m\u001B[0m\n\u001B[1;32m----> 5\u001B[1;33m             \u001B[1;32mreturn\u001B[0m \u001B[0mpickle\u001B[0m\u001B[1;33m.\u001B[0m\u001B[0mload\u001B[0m\u001B[1;33m(\u001B[0m\u001B[0mf\u001B[0m\u001B[1;33m)\u001B[0m\u001B[1;33m\u001B[0m\u001B[1;33m\u001B[0m\u001B[0m\n\u001B[0m\u001B[0;32m      6\u001B[0m \u001B[1;33m\u001B[0m\u001B[0m\n\u001B[0;32m      7\u001B[0m     \u001B[1;32mexcept\u001B[0m \u001B[0mFileNotFoundError\u001B[0m\u001B[1;33m:\u001B[0m\u001B[1;33m\u001B[0m\u001B[1;33m\u001B[0m\u001B[0m\n",
      "\u001B[1;31mEOFError\u001B[0m: Ran out of input"
     ]
    }
   ],
   "source": [
    "# open a file, where you stored the pickled data\n",
    "kmeans12 = load(\"kmeans_12.pickle\")"
   ],
   "metadata": {
    "collapsed": false
   }
  },
  {
   "cell_type": "code",
   "execution_count": 29,
   "outputs": [],
   "source": [
    "X_scaled_df['cluster'] = kmeans12.predict(X_scaled_df)"
   ],
   "metadata": {
    "collapsed": false
   }
  },
  {
   "cell_type": "code",
   "execution_count": 30,
   "outputs": [
    {
     "data": {
      "text/plain": "                        danceability    energy  loudness      mode  \\\n0WtM2NBVQNNJLh6scP13H8      1.307194  0.883769  0.661813  0.716523   \n4VMRsbfZzd3SfQtaJ1Wpwi      0.187951 -0.017513  0.351442 -1.395629   \n1Qrg8KqiBpW07V7PNxwwwL      0.432959  0.616024  0.580421  0.716523   \n0yLdNVWF3Srea0uzk55zFn      0.783767  0.412387  0.794356  0.716523   \n5w40ZYhbBMAlHYNDaVJIUu     -0.380023  1.226934  0.706796  0.716523   \n...                              ...       ...       ...       ...   \n0ygTmpa6uSotkBkTiwcMZ4     -0.407865  0.069221  0.570341 -1.395629   \n7GJClzimvMSghjcrKxuf1M      0.822745 -0.454956  0.201147  0.716523   \n5pY3ovFxbvAg7reGZjJQSp      0.416254 -1.491995 -0.313981  0.716523   \n3NNqqioprPCnYcVtDn3wvS      1.502087 -0.273945 -0.041674 -1.395629   \n58CrldAc1Z5WIBozT1NMJH     -0.541505 -1.657922 -0.661361  0.716523   \n\n                        speechiness  acousticness  instrumentalness  liveness  \\\n0WtM2NBVQNNJLh6scP13H8    -0.416618      0.085255         -0.491939 -0.439962   \n4VMRsbfZzd3SfQtaJ1Wpwi    -0.466735     -0.994558         -0.494080  2.112204   \n1Qrg8KqiBpW07V7PNxwwwL    -0.406791     -0.862696         -0.027172 -0.125128   \n0yLdNVWF3Srea0uzk55zFn    -0.134584     -0.830801         -0.494092 -0.987907   \n5w40ZYhbBMAlHYNDaVJIUu    -0.348812     -1.008495         -0.494108 -0.413167   \n...                             ...           ...               ...       ...   \n0ygTmpa6uSotkBkTiwcMZ4    -0.405808     -0.038304         -0.494108 -0.393072   \n7GJClzimvMSghjcrKxuf1M    -0.519801     -0.758677         -0.494108 -0.480153   \n5pY3ovFxbvAg7reGZjJQSp    -0.448064      0.820857         -0.494092  0.484444   \n3NNqqioprPCnYcVtDn3wvS    -0.320314      0.458803         -0.490895 -0.460058   \n58CrldAc1Z5WIBozT1NMJH     0.002010      1.657030         -0.494108 -0.618814   \n\n                         valence     tempo  duration_ms  cluster  \n0WtM2NBVQNNJLh6scP13H8  1.289611 -0.398406     0.098803        4  \n4VMRsbfZzd3SfQtaJ1Wpwi -1.466125  0.008283     0.335690        5  \n1Qrg8KqiBpW07V7PNxwwwL -0.207351 -1.006852    -0.600554        4  \n0yLdNVWF3Srea0uzk55zFn  0.681470 -0.026970    -0.219562        4  \n5w40ZYhbBMAlHYNDaVJIUu -0.382776  1.725634    -0.354254        6  \n...                          ...       ...          ...      ...  \n0ygTmpa6uSotkBkTiwcMZ4  0.120110  1.725837    -0.007128        5  \n7GJClzimvMSghjcrKxuf1M -0.254131  0.303541    -0.217391        4  \n5pY3ovFxbvAg7reGZjJQSp -0.679050 -1.444099     0.588921        7  \n3NNqqioprPCnYcVtDn3wvS -1.411938 -0.465501    -0.254427        0  \n58CrldAc1Z5WIBozT1NMJH -0.433455 -1.748677     0.444087        7  \n\n[22297 rows x 12 columns]",
      "text/html": "<div>\n<style scoped>\n    .dataframe tbody tr th:only-of-type {\n        vertical-align: middle;\n    }\n\n    .dataframe tbody tr th {\n        vertical-align: top;\n    }\n\n    .dataframe thead th {\n        text-align: right;\n    }\n</style>\n<table border=\"1\" class=\"dataframe\">\n  <thead>\n    <tr style=\"text-align: right;\">\n      <th></th>\n      <th>danceability</th>\n      <th>energy</th>\n      <th>loudness</th>\n      <th>mode</th>\n      <th>speechiness</th>\n      <th>acousticness</th>\n      <th>instrumentalness</th>\n      <th>liveness</th>\n      <th>valence</th>\n      <th>tempo</th>\n      <th>duration_ms</th>\n      <th>cluster</th>\n    </tr>\n  </thead>\n  <tbody>\n    <tr>\n      <th>0WtM2NBVQNNJLh6scP13H8</th>\n      <td>1.307194</td>\n      <td>0.883769</td>\n      <td>0.661813</td>\n      <td>0.716523</td>\n      <td>-0.416618</td>\n      <td>0.085255</td>\n      <td>-0.491939</td>\n      <td>-0.439962</td>\n      <td>1.289611</td>\n      <td>-0.398406</td>\n      <td>0.098803</td>\n      <td>4</td>\n    </tr>\n    <tr>\n      <th>4VMRsbfZzd3SfQtaJ1Wpwi</th>\n      <td>0.187951</td>\n      <td>-0.017513</td>\n      <td>0.351442</td>\n      <td>-1.395629</td>\n      <td>-0.466735</td>\n      <td>-0.994558</td>\n      <td>-0.494080</td>\n      <td>2.112204</td>\n      <td>-1.466125</td>\n      <td>0.008283</td>\n      <td>0.335690</td>\n      <td>5</td>\n    </tr>\n    <tr>\n      <th>1Qrg8KqiBpW07V7PNxwwwL</th>\n      <td>0.432959</td>\n      <td>0.616024</td>\n      <td>0.580421</td>\n      <td>0.716523</td>\n      <td>-0.406791</td>\n      <td>-0.862696</td>\n      <td>-0.027172</td>\n      <td>-0.125128</td>\n      <td>-0.207351</td>\n      <td>-1.006852</td>\n      <td>-0.600554</td>\n      <td>4</td>\n    </tr>\n    <tr>\n      <th>0yLdNVWF3Srea0uzk55zFn</th>\n      <td>0.783767</td>\n      <td>0.412387</td>\n      <td>0.794356</td>\n      <td>0.716523</td>\n      <td>-0.134584</td>\n      <td>-0.830801</td>\n      <td>-0.494092</td>\n      <td>-0.987907</td>\n      <td>0.681470</td>\n      <td>-0.026970</td>\n      <td>-0.219562</td>\n      <td>4</td>\n    </tr>\n    <tr>\n      <th>5w40ZYhbBMAlHYNDaVJIUu</th>\n      <td>-0.380023</td>\n      <td>1.226934</td>\n      <td>0.706796</td>\n      <td>0.716523</td>\n      <td>-0.348812</td>\n      <td>-1.008495</td>\n      <td>-0.494108</td>\n      <td>-0.413167</td>\n      <td>-0.382776</td>\n      <td>1.725634</td>\n      <td>-0.354254</td>\n      <td>6</td>\n    </tr>\n    <tr>\n      <th>...</th>\n      <td>...</td>\n      <td>...</td>\n      <td>...</td>\n      <td>...</td>\n      <td>...</td>\n      <td>...</td>\n      <td>...</td>\n      <td>...</td>\n      <td>...</td>\n      <td>...</td>\n      <td>...</td>\n      <td>...</td>\n    </tr>\n    <tr>\n      <th>0ygTmpa6uSotkBkTiwcMZ4</th>\n      <td>-0.407865</td>\n      <td>0.069221</td>\n      <td>0.570341</td>\n      <td>-1.395629</td>\n      <td>-0.405808</td>\n      <td>-0.038304</td>\n      <td>-0.494108</td>\n      <td>-0.393072</td>\n      <td>0.120110</td>\n      <td>1.725837</td>\n      <td>-0.007128</td>\n      <td>5</td>\n    </tr>\n    <tr>\n      <th>7GJClzimvMSghjcrKxuf1M</th>\n      <td>0.822745</td>\n      <td>-0.454956</td>\n      <td>0.201147</td>\n      <td>0.716523</td>\n      <td>-0.519801</td>\n      <td>-0.758677</td>\n      <td>-0.494108</td>\n      <td>-0.480153</td>\n      <td>-0.254131</td>\n      <td>0.303541</td>\n      <td>-0.217391</td>\n      <td>4</td>\n    </tr>\n    <tr>\n      <th>5pY3ovFxbvAg7reGZjJQSp</th>\n      <td>0.416254</td>\n      <td>-1.491995</td>\n      <td>-0.313981</td>\n      <td>0.716523</td>\n      <td>-0.448064</td>\n      <td>0.820857</td>\n      <td>-0.494092</td>\n      <td>0.484444</td>\n      <td>-0.679050</td>\n      <td>-1.444099</td>\n      <td>0.588921</td>\n      <td>7</td>\n    </tr>\n    <tr>\n      <th>3NNqqioprPCnYcVtDn3wvS</th>\n      <td>1.502087</td>\n      <td>-0.273945</td>\n      <td>-0.041674</td>\n      <td>-1.395629</td>\n      <td>-0.320314</td>\n      <td>0.458803</td>\n      <td>-0.490895</td>\n      <td>-0.460058</td>\n      <td>-1.411938</td>\n      <td>-0.465501</td>\n      <td>-0.254427</td>\n      <td>0</td>\n    </tr>\n    <tr>\n      <th>58CrldAc1Z5WIBozT1NMJH</th>\n      <td>-0.541505</td>\n      <td>-1.657922</td>\n      <td>-0.661361</td>\n      <td>0.716523</td>\n      <td>0.002010</td>\n      <td>1.657030</td>\n      <td>-0.494108</td>\n      <td>-0.618814</td>\n      <td>-0.433455</td>\n      <td>-1.748677</td>\n      <td>0.444087</td>\n      <td>7</td>\n    </tr>\n  </tbody>\n</table>\n<p>22297 rows × 12 columns</p>\n</div>"
     },
     "execution_count": 30,
     "metadata": {},
     "output_type": "execute_result"
    }
   ],
   "source": [
    "X_scaled_df"
   ],
   "metadata": {
    "collapsed": false
   }
  },
  {
   "cell_type": "code",
   "execution_count": 31,
   "outputs": [],
   "source": [
    "# save clustered data\n",
    "X_scaled_df.to_csv(\"df_clustered.csv\")"
   ],
   "metadata": {
    "collapsed": false
   }
  },
  {
   "cell_type": "markdown",
   "source": [
    "## 5. make a recommendation"
   ],
   "metadata": {
    "collapsed": false
   }
  },
  {
   "cell_type": "code",
   "execution_count": 40,
   "outputs": [
    {
     "data": {
      "text/plain": "(1, 11)"
     },
     "execution_count": 40,
     "metadata": {},
     "output_type": "execute_result"
    }
   ],
   "source": [
    "get_features(get_track_id(\"Yeah\")).shape"
   ],
   "metadata": {
    "collapsed": false
   }
  },
  {
   "cell_type": "code",
   "execution_count": 41,
   "outputs": [
    {
     "data": {
      "text/plain": "11"
     },
     "execution_count": 41,
     "metadata": {},
     "output_type": "execute_result"
    }
   ],
   "source": [
    "user_song_cluster = kmeans12.predict(get_features(get_track_id(\"Yeah\")))[0]\n",
    "user_song_cluster"
   ],
   "metadata": {
    "collapsed": false
   }
  },
  {
   "cell_type": "code",
   "execution_count": 34,
   "outputs": [],
   "source": [
    "full_df = pd.read_csv(\"df_clustered.csv\", index_col=\"Unnamed: 0\")"
   ],
   "metadata": {
    "collapsed": false
   }
  },
  {
   "cell_type": "code",
   "execution_count": 53,
   "outputs": [
    {
     "data": {
      "text/plain": "'0FMdDfm8alEAhS6TyUn4sk'"
     },
     "execution_count": 53,
     "metadata": {},
     "output_type": "execute_result"
    }
   ],
   "source": [
    "song_rec = random.choice(full_df[full_df[\"cluster\"] == user_song_cluster].index)\n",
    "song_rec"
   ],
   "metadata": {
    "collapsed": false
   }
  },
  {
   "cell_type": "markdown",
   "source": [
    "## 6. UX flow"
   ],
   "metadata": {
    "collapsed": false
   }
  },
  {
   "cell_type": "code",
   "execution_count": 62,
   "outputs": [],
   "source": [
    "def str_matcher(user_input, song_list):\n",
    "    # Find the closest matching song title to the input string\n",
    "    best_match = difflib.get_close_matches(user_input, song_list[\"song\"], n=1, cutoff=0.8)\n",
    "    # Print the closest matching song title and the corresponding similarity score\n",
    "    if best_match:\n",
    "       similarity = difflib.SequenceMatcher(None, user_input, best_match[0]).ratio()\n",
    "       corrected_input = best_match[0]\n",
    "       match = True\n",
    "    else:\n",
    "        corrected_input = user_input\n",
    "        match = False\n",
    "    return match, corrected_input"
   ],
   "metadata": {
    "collapsed": false
   }
  },
  {
   "cell_type": "code",
   "execution_count": 63,
   "outputs": [],
   "source": [
    "def user_input(song_list):\n",
    "    # get user input\n",
    "    user_choice = input(\"Please choose a hot song you like. To exit, type '/exit'.\")\n",
    "    # check if the program should be terminated\n",
    "    if user_choice == \"/exit\":\n",
    "        print(\"Program terminated.\")\n",
    "        match = False\n",
    "    else:\n",
    "        # return list with [match=True/False, corrected_input]\n",
    "        match, user_choice = str_matcher(user_choice, song_list)\n",
    "\n",
    "        # check if the corrected string appeares in full in the list of songs\n",
    "        if match:\n",
    "           print(\"Your song is in the list of 100 hottest songs.\")\n",
    "        else:\n",
    "            #print(\"Your song is not in the list of the hottest 100 songs, please enter a song from the list:\", np.array(song_list[\"song\"].str.title()))\n",
    "            # return the original str as output\n",
    "            user_choice = user_choice\n",
    "\n",
    "    return match, user_choice"
   ],
   "metadata": {
    "collapsed": false
   }
  },
  {
   "cell_type": "code",
   "execution_count": 64,
   "outputs": [],
   "source": [
    "def recommender(song_list, clustered_df):\n",
    "    # call user_input\n",
    "    match, user_choice = user_input(song_list)\n",
    "\n",
    "    if match:\n",
    "        # get the dataframe without the input song\n",
    "        song_list_out = pd.DataFrame(song_list[~song_list[\"song\"].str.contains(user_choice)])\n",
    "        # choose random song from the list of songs\n",
    "        recommended_song = song_list_out.iloc[randint(0, len(song_list)), 0].title()\n",
    "        print(\"Based on the input song, we recommend you this song:\")\n",
    "    else:\n",
    "        track_id = get_track_id(user_choice)\n",
    "        X = get_features(track_id)\n",
    "        X_scaled_df = scale_input(X)\n",
    "        predicted_cluster = kmeans12.predict(X_scaled_df)[0]\n",
    "        recommended_song = random.choice(full_df[full_df[\"cluster\"] == predicted_cluster].index)\n",
    "\n",
    "    return recommended_song\n",
    "# now returns name from list or track id for recommencdation from cluster"
   ],
   "metadata": {
    "collapsed": false
   }
  },
  {
   "cell_type": "code",
   "execution_count": 65,
   "outputs": [],
   "source": [
    "from IPython.display import IFrame\n",
    "def play_song(track_id):\n",
    "    return IFrame(src=\"https://open.spotify.com/embed/track/\"+track_id,\n",
    "       width=\"320\",\n",
    "       height=\"80\",\n",
    "       frameborder=\"0\",\n",
    "       allowtransparency=\"true\",\n",
    "       allow=\"encrypted-media\"\n",
    "      )"
   ],
   "metadata": {
    "collapsed": false
   }
  },
  {
   "cell_type": "code",
   "execution_count": null,
   "outputs": [],
   "source": [],
   "metadata": {
    "collapsed": false
   }
  },
  {
   "cell_type": "code",
   "execution_count": 69,
   "outputs": [
    {
     "name": "stderr",
     "output_type": "stream",
     "text": [
      "HTTP Error for GET to https://api.spotify.com/v1/search with Params: {'q': '', 'limit': 1, 'offset': 0, 'type': 'track', 'market': None} returned 400 due to No search query\n"
     ]
    },
    {
     "ename": "SpotifyException",
     "evalue": "http status: 400, code:-1 - https://api.spotify.com/v1/search?q=&limit=1&offset=0&type=track:\n No search query, reason: None",
     "output_type": "error",
     "traceback": [
      "\u001B[1;31m---------------------------------------------------------------------------\u001B[0m",
      "\u001B[1;31mHTTPError\u001B[0m                                 Traceback (most recent call last)",
      "\u001B[1;32mC:\\ProgramData\\Anaconda3\\lib\\site-packages\\spotipy\\client.py\u001B[0m in \u001B[0;36m_internal_call\u001B[1;34m(self, method, url, payload, params)\u001B[0m\n\u001B[0;32m    268\u001B[0m \u001B[1;33m\u001B[0m\u001B[0m\n\u001B[1;32m--> 269\u001B[1;33m             \u001B[0mresponse\u001B[0m\u001B[1;33m.\u001B[0m\u001B[0mraise_for_status\u001B[0m\u001B[1;33m(\u001B[0m\u001B[1;33m)\u001B[0m\u001B[1;33m\u001B[0m\u001B[1;33m\u001B[0m\u001B[0m\n\u001B[0m\u001B[0;32m    270\u001B[0m             \u001B[0mresults\u001B[0m \u001B[1;33m=\u001B[0m \u001B[0mresponse\u001B[0m\u001B[1;33m.\u001B[0m\u001B[0mjson\u001B[0m\u001B[1;33m(\u001B[0m\u001B[1;33m)\u001B[0m\u001B[1;33m\u001B[0m\u001B[1;33m\u001B[0m\u001B[0m\n",
      "\u001B[1;32mC:\\ProgramData\\Anaconda3\\lib\\site-packages\\requests\\models.py\u001B[0m in \u001B[0;36mraise_for_status\u001B[1;34m(self)\u001B[0m\n\u001B[0;32m   1020\u001B[0m         \u001B[1;32mif\u001B[0m \u001B[0mhttp_error_msg\u001B[0m\u001B[1;33m:\u001B[0m\u001B[1;33m\u001B[0m\u001B[1;33m\u001B[0m\u001B[0m\n\u001B[1;32m-> 1021\u001B[1;33m             \u001B[1;32mraise\u001B[0m \u001B[0mHTTPError\u001B[0m\u001B[1;33m(\u001B[0m\u001B[0mhttp_error_msg\u001B[0m\u001B[1;33m,\u001B[0m \u001B[0mresponse\u001B[0m\u001B[1;33m=\u001B[0m\u001B[0mself\u001B[0m\u001B[1;33m)\u001B[0m\u001B[1;33m\u001B[0m\u001B[1;33m\u001B[0m\u001B[0m\n\u001B[0m\u001B[0;32m   1022\u001B[0m \u001B[1;33m\u001B[0m\u001B[0m\n",
      "\u001B[1;31mHTTPError\u001B[0m: 400 Client Error: Bad Request for url: https://api.spotify.com/v1/search?q=&limit=1&offset=0&type=track",
      "\nDuring handling of the above exception, another exception occurred:\n",
      "\u001B[1;31mSpotifyException\u001B[0m                          Traceback (most recent call last)",
      "\u001B[1;32m~\\AppData\\Local\\Temp\\ipykernel_16872\\742857942.py\u001B[0m in \u001B[0;36m<module>\u001B[1;34m\u001B[0m\n\u001B[0;32m      1\u001B[0m \u001B[0mhot_100\u001B[0m \u001B[1;33m=\u001B[0m \u001B[0mpd\u001B[0m\u001B[1;33m.\u001B[0m\u001B[0mread_csv\u001B[0m\u001B[1;33m(\u001B[0m\u001B[1;34m\"hot_100.csv\"\u001B[0m\u001B[1;33m)\u001B[0m\u001B[1;33m\u001B[0m\u001B[1;33m\u001B[0m\u001B[0m\n\u001B[1;32m----> 2\u001B[1;33m \u001B[0mplay_song\u001B[0m\u001B[1;33m(\u001B[0m\u001B[0mrecommender\u001B[0m\u001B[1;33m(\u001B[0m\u001B[0mhot_100\u001B[0m\u001B[1;33m,\u001B[0m \u001B[0mfull_df\u001B[0m\u001B[1;33m)\u001B[0m\u001B[1;33m)\u001B[0m\u001B[1;33m\u001B[0m\u001B[1;33m\u001B[0m\u001B[0m\n\u001B[0m",
      "\u001B[1;32m~\\AppData\\Local\\Temp\\ipykernel_16872\\4213333800.py\u001B[0m in \u001B[0;36mrecommender\u001B[1;34m(song_list, clustered_df)\u001B[0m\n\u001B[0;32m     10\u001B[0m         \u001B[0mprint\u001B[0m\u001B[1;33m(\u001B[0m\u001B[1;34m\"Based on the input song, we recommend you this song:\"\u001B[0m\u001B[1;33m)\u001B[0m\u001B[1;33m\u001B[0m\u001B[1;33m\u001B[0m\u001B[0m\n\u001B[0;32m     11\u001B[0m     \u001B[1;32melse\u001B[0m\u001B[1;33m:\u001B[0m\u001B[1;33m\u001B[0m\u001B[1;33m\u001B[0m\u001B[0m\n\u001B[1;32m---> 12\u001B[1;33m         \u001B[0mtrack_id\u001B[0m \u001B[1;33m=\u001B[0m \u001B[0mget_track_id\u001B[0m\u001B[1;33m(\u001B[0m\u001B[0muser_choice\u001B[0m\u001B[1;33m)\u001B[0m\u001B[1;33m\u001B[0m\u001B[1;33m\u001B[0m\u001B[0m\n\u001B[0m\u001B[0;32m     13\u001B[0m         \u001B[0mX\u001B[0m \u001B[1;33m=\u001B[0m \u001B[0mget_features\u001B[0m\u001B[1;33m(\u001B[0m\u001B[0mtrack_id\u001B[0m\u001B[1;33m)\u001B[0m\u001B[1;33m\u001B[0m\u001B[1;33m\u001B[0m\u001B[0m\n\u001B[0;32m     14\u001B[0m         \u001B[0mX_scaled_df\u001B[0m \u001B[1;33m=\u001B[0m \u001B[0mscale_input\u001B[0m\u001B[1;33m(\u001B[0m\u001B[0mX\u001B[0m\u001B[1;33m)\u001B[0m\u001B[1;33m\u001B[0m\u001B[1;33m\u001B[0m\u001B[0m\n",
      "\u001B[1;32m~\\AppData\\Local\\Temp\\ipykernel_16872\\2928596016.py\u001B[0m in \u001B[0;36mget_track_id\u001B[1;34m(song)\u001B[0m\n\u001B[0;32m      1\u001B[0m \u001B[1;32mdef\u001B[0m \u001B[0mget_track_id\u001B[0m\u001B[1;33m(\u001B[0m\u001B[0msong\u001B[0m\u001B[1;33m)\u001B[0m\u001B[1;33m:\u001B[0m\u001B[1;33m\u001B[0m\u001B[1;33m\u001B[0m\u001B[0m\n\u001B[1;32m----> 2\u001B[1;33m     \u001B[0mid\u001B[0m \u001B[1;33m=\u001B[0m \u001B[0msp\u001B[0m\u001B[1;33m.\u001B[0m\u001B[0msearch\u001B[0m\u001B[1;33m(\u001B[0m\u001B[0mq\u001B[0m\u001B[1;33m=\u001B[0m\u001B[0msong\u001B[0m\u001B[1;33m,\u001B[0m\u001B[0mlimit\u001B[0m\u001B[1;33m=\u001B[0m\u001B[1;36m1\u001B[0m\u001B[1;33m)\u001B[0m\u001B[1;33m[\u001B[0m\u001B[1;34m\"tracks\"\u001B[0m\u001B[1;33m]\u001B[0m\u001B[1;33m[\u001B[0m\u001B[1;34m\"items\"\u001B[0m\u001B[1;33m]\u001B[0m\u001B[1;33m[\u001B[0m\u001B[1;36m0\u001B[0m\u001B[1;33m]\u001B[0m\u001B[1;33m[\u001B[0m\u001B[1;34m\"id\"\u001B[0m\u001B[1;33m]\u001B[0m\u001B[1;33m\u001B[0m\u001B[1;33m\u001B[0m\u001B[0m\n\u001B[0m\u001B[0;32m      3\u001B[0m     \u001B[1;32mreturn\u001B[0m \u001B[0mid\u001B[0m\u001B[1;33m\u001B[0m\u001B[1;33m\u001B[0m\u001B[0m\n",
      "\u001B[1;32mC:\\ProgramData\\Anaconda3\\lib\\site-packages\\spotipy\\client.py\u001B[0m in \u001B[0;36msearch\u001B[1;34m(self, q, limit, offset, type, market)\u001B[0m\n\u001B[0;32m    583\u001B[0m                            \u001B[0mfrom_token\u001B[0m\u001B[1;33m.\u001B[0m\u001B[1;33m\u001B[0m\u001B[1;33m\u001B[0m\u001B[0m\n\u001B[0;32m    584\u001B[0m         \"\"\"\n\u001B[1;32m--> 585\u001B[1;33m         return self._get(\n\u001B[0m\u001B[0;32m    586\u001B[0m             \u001B[1;34m\"search\"\u001B[0m\u001B[1;33m,\u001B[0m \u001B[0mq\u001B[0m\u001B[1;33m=\u001B[0m\u001B[0mq\u001B[0m\u001B[1;33m,\u001B[0m \u001B[0mlimit\u001B[0m\u001B[1;33m=\u001B[0m\u001B[0mlimit\u001B[0m\u001B[1;33m,\u001B[0m \u001B[0moffset\u001B[0m\u001B[1;33m=\u001B[0m\u001B[0moffset\u001B[0m\u001B[1;33m,\u001B[0m \u001B[0mtype\u001B[0m\u001B[1;33m=\u001B[0m\u001B[0mtype\u001B[0m\u001B[1;33m,\u001B[0m \u001B[0mmarket\u001B[0m\u001B[1;33m=\u001B[0m\u001B[0mmarket\u001B[0m\u001B[1;33m\u001B[0m\u001B[1;33m\u001B[0m\u001B[0m\n\u001B[0;32m    587\u001B[0m         )\n",
      "\u001B[1;32mC:\\ProgramData\\Anaconda3\\lib\\site-packages\\spotipy\\client.py\u001B[0m in \u001B[0;36m_get\u001B[1;34m(self, url, args, payload, **kwargs)\u001B[0m\n\u001B[0;32m    319\u001B[0m             \u001B[0mkwargs\u001B[0m\u001B[1;33m.\u001B[0m\u001B[0mupdate\u001B[0m\u001B[1;33m(\u001B[0m\u001B[0margs\u001B[0m\u001B[1;33m)\u001B[0m\u001B[1;33m\u001B[0m\u001B[1;33m\u001B[0m\u001B[0m\n\u001B[0;32m    320\u001B[0m \u001B[1;33m\u001B[0m\u001B[0m\n\u001B[1;32m--> 321\u001B[1;33m         \u001B[1;32mreturn\u001B[0m \u001B[0mself\u001B[0m\u001B[1;33m.\u001B[0m\u001B[0m_internal_call\u001B[0m\u001B[1;33m(\u001B[0m\u001B[1;34m\"GET\"\u001B[0m\u001B[1;33m,\u001B[0m \u001B[0murl\u001B[0m\u001B[1;33m,\u001B[0m \u001B[0mpayload\u001B[0m\u001B[1;33m,\u001B[0m \u001B[0mkwargs\u001B[0m\u001B[1;33m)\u001B[0m\u001B[1;33m\u001B[0m\u001B[1;33m\u001B[0m\u001B[0m\n\u001B[0m\u001B[0;32m    322\u001B[0m \u001B[1;33m\u001B[0m\u001B[0m\n\u001B[0;32m    323\u001B[0m     \u001B[1;32mdef\u001B[0m \u001B[0m_post\u001B[0m\u001B[1;33m(\u001B[0m\u001B[0mself\u001B[0m\u001B[1;33m,\u001B[0m \u001B[0murl\u001B[0m\u001B[1;33m,\u001B[0m \u001B[0margs\u001B[0m\u001B[1;33m=\u001B[0m\u001B[1;32mNone\u001B[0m\u001B[1;33m,\u001B[0m \u001B[0mpayload\u001B[0m\u001B[1;33m=\u001B[0m\u001B[1;32mNone\u001B[0m\u001B[1;33m,\u001B[0m \u001B[1;33m**\u001B[0m\u001B[0mkwargs\u001B[0m\u001B[1;33m)\u001B[0m\u001B[1;33m:\u001B[0m\u001B[1;33m\u001B[0m\u001B[1;33m\u001B[0m\u001B[0m\n",
      "\u001B[1;32mC:\\ProgramData\\Anaconda3\\lib\\site-packages\\spotipy\\client.py\u001B[0m in \u001B[0;36m_internal_call\u001B[1;34m(self, method, url, payload, params)\u001B[0m\n\u001B[0;32m    289\u001B[0m             )\n\u001B[0;32m    290\u001B[0m \u001B[1;33m\u001B[0m\u001B[0m\n\u001B[1;32m--> 291\u001B[1;33m             raise SpotifyException(\n\u001B[0m\u001B[0;32m    292\u001B[0m                 \u001B[0mresponse\u001B[0m\u001B[1;33m.\u001B[0m\u001B[0mstatus_code\u001B[0m\u001B[1;33m,\u001B[0m\u001B[1;33m\u001B[0m\u001B[1;33m\u001B[0m\u001B[0m\n\u001B[0;32m    293\u001B[0m                 \u001B[1;33m-\u001B[0m\u001B[1;36m1\u001B[0m\u001B[1;33m,\u001B[0m\u001B[1;33m\u001B[0m\u001B[1;33m\u001B[0m\u001B[0m\n",
      "\u001B[1;31mSpotifyException\u001B[0m: http status: 400, code:-1 - https://api.spotify.com/v1/search?q=&limit=1&offset=0&type=track:\n No search query, reason: None"
     ]
    }
   ],
   "source": [
    "hot_100 = pd.read_csv(\"hot_100.csv\")\n",
    "play_song(recommender(hot_100, full_df))"
   ],
   "metadata": {
    "collapsed": false
   }
  },
  {
   "cell_type": "markdown",
   "source": [
    "# Snippets"
   ],
   "metadata": {
    "collapsed": false
   }
  },
  {
   "cell_type": "code",
   "execution_count": 3,
   "outputs": [],
   "source": [
    "# create a list containing all markets\n",
    "markets = list(sp.available_markets()[\"markets\"])"
   ],
   "metadata": {
    "collapsed": false
   }
  },
  {
   "cell_type": "code",
   "execution_count": null,
   "outputs": [],
   "source": [],
   "metadata": {
    "collapsed": false
   }
  }
 ],
 "metadata": {
  "kernelspec": {
   "display_name": "Python 3",
   "language": "python",
   "name": "python3"
  },
  "language_info": {
   "codemirror_mode": {
    "name": "ipython",
    "version": 2
   },
   "file_extension": ".py",
   "mimetype": "text/x-python",
   "name": "python",
   "nbconvert_exporter": "python",
   "pygments_lexer": "ipython2",
   "version": "2.7.6"
  }
 },
 "nbformat": 4,
 "nbformat_minor": 0
}
